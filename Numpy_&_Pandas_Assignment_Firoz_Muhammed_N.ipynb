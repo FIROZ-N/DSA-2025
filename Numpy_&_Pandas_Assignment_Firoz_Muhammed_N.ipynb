{
  "nbformat": 4,
  "nbformat_minor": 0,
  "metadata": {
    "colab": {
      "provenance": [],
      "authorship_tag": "ABX9TyMPuzSDGV94uVwExedgRpJo",
      "include_colab_link": true
    },
    "kernelspec": {
      "name": "python3",
      "display_name": "Python 3"
    },
    "language_info": {
      "name": "python"
    }
  },
  "cells": [
    {
      "cell_type": "markdown",
      "metadata": {
        "id": "view-in-github",
        "colab_type": "text"
      },
      "source": [
        "<a href=\"https://colab.research.google.com/github/FIROZ-N/DSA-2025/blob/main/Numpy_%26_Pandas_Assignment_Firoz_Muhammed_N.ipynb\" target=\"_parent\"><img src=\"https://colab.research.google.com/assets/colab-badge.svg\" alt=\"Open In Colab\"/></a>"
      ]
    },
    {
      "cell_type": "markdown",
      "source": [
        " NumPy array with values from 10 to 49 (inclusive).\n",
        "\n",
        " ----\n",
        "\n",
        "● Reshape it into a 4x10 matrix.\n",
        "\n",
        "----\n",
        "\n",
        "● Then extract the last column from the reshaped matrix"
      ],
      "metadata": {
        "id": "XF6w1p_OY_8L"
      }
    },
    {
      "cell_type": "code",
      "execution_count": null,
      "metadata": {
        "colab": {
          "base_uri": "https://localhost:8080/"
        },
        "id": "26oOISmdYaKJ",
        "outputId": "118ae101-8d65-4540-caa6-f213bfc5a774"
      },
      "outputs": [
        {
          "output_type": "stream",
          "name": "stdout",
          "text": [
            "\n",
            "matrix : [[10 11 12 13 14 15 16 17 18 19]\n",
            " [20 21 22 23 24 25 26 27 28 29]\n",
            " [30 31 32 33 34 35 36 37 38 39]\n",
            " [40 41 42 43 44 45 46 47 48 49]]\n",
            "last : [19 29 39 49]\n"
          ]
        }
      ],
      "source": [
        "import numpy as np\n",
        "\n",
        "arr = np.arange(10,50)\n",
        "\n",
        "matrix = arr.reshape(4,10)\n",
        "\n",
        "print()\n",
        "\n",
        "print(f\"matrix : {matrix}\")\n",
        "\n",
        "last_column = matrix[:,-1]\n",
        "\n",
        "print(f\"last : {last_column}\")\n"
      ]
    },
    {
      "cell_type": "markdown",
      "source": [
        "Two 3×3 matrices:\n",
        "\n",
        "---\n",
        "One filled with all 5s , One with values from 1 to 9\n",
        "\n",
        "---\n",
        "● Add the two matrices\n",
        "\n",
        "---\n",
        "● Multiply them element-wise\n",
        "\n",
        "---\n",
        "● Then find the transpose of the result"
      ],
      "metadata": {
        "id": "LKNpRU8Bh_k8"
      }
    },
    {
      "cell_type": "code",
      "source": [
        "import numpy as np\n",
        "\n",
        "mat1 = np.full((3, 3), 5)\n",
        "mat2 = np.arange(1, 10).reshape(3, 3)\n",
        "added = mat1 + mat2\n",
        "multiplied = mat1 * mat2\n",
        "transpose_result = multiplied.T\n",
        "print(\"\\nTranspose of Element-wise Multiplication:\\n\", transpose_result)"
      ],
      "metadata": {
        "colab": {
          "base_uri": "https://localhost:8080/"
        },
        "id": "DBecm7SMiNlZ",
        "outputId": "8532f2a8-0514-42d5-f17c-f30998245fb6"
      },
      "execution_count": null,
      "outputs": [
        {
          "output_type": "stream",
          "name": "stdout",
          "text": [
            "\n",
            "Transpose of Element-wise Multiplication:\n",
            " [[ 5 20 35]\n",
            " [10 25 40]\n",
            " [15 30 45]]\n"
          ]
        }
      ]
    },
    {
      "cell_type": "markdown",
      "source": [
        "A NumPy array of 15 random integers between 10 and 100.\n",
        "\n",
        "----\n",
        "● Replace all values greater than 50 with -1\n",
        "\n",
        "----\n",
        "● Count how many values were replaced."
      ],
      "metadata": {
        "id": "QtCdgkffkyYY"
      }
    },
    {
      "cell_type": "code",
      "source": [
        "rand_arr = np.random.randint(10, 101, 15)\n",
        "replaced_arr = np.where(rand_arr > 50, -1, rand_arr)\n",
        "count_replaced = np.sum(rand_arr > 50)\n",
        "print(\"\\nOriginal:\\n\", rand_arr)\n",
        "print(\"Replaced (>50 with -1):\\n\", replaced_arr)\n",
        "print(\"Count of replaced values:\", count_replaced)"
      ],
      "metadata": {
        "colab": {
          "base_uri": "https://localhost:8080/"
        },
        "id": "NgSwIud6lfS0",
        "outputId": "ea531ca3-0bc2-4705-a2e0-6b8697985a24"
      },
      "execution_count": null,
      "outputs": [
        {
          "output_type": "stream",
          "name": "stdout",
          "text": [
            "\n",
            "Original:\n",
            " [ 26 100  89  89  87  29  44  21  69  43  51  20  87  85  89]\n",
            "Replaced (>50 with -1):\n",
            " [26 -1 -1 -1 -1 29 44 21 -1 43 -1 20 -1 -1 -1]\n",
            "Count of replaced values: 9\n"
          ]
        }
      ]
    },
    {
      "cell_type": "markdown",
      "source": [
        "5×4 random array, row with max sum, normalize each row"
      ],
      "metadata": {
        "id": "OGSJTvfFl1Mg"
      }
    },
    {
      "cell_type": "code",
      "source": [
        "rand_5x4 = np.random.rand(5, 4)\n",
        "row_max_sum_index = np.argmax(rand_5x4.sum(axis=1))\n",
        "normalized = rand_5x4 / rand_5x4.sum(axis=1, keepdims=True)\n",
        "print(\"\\nRow with maximum sum index:\", row_max_sum_index)\n",
        "print(\"Normalized rows:\\n\", normalized)"
      ],
      "metadata": {
        "colab": {
          "base_uri": "https://localhost:8080/"
        },
        "id": "IWpoFa7Kl4og",
        "outputId": "9d481d78-6e52-4be4-82b6-8cdfaeca8d69"
      },
      "execution_count": null,
      "outputs": [
        {
          "output_type": "stream",
          "name": "stdout",
          "text": [
            "\n",
            "Row with maximum sum index: 3\n",
            "Normalized rows:\n",
            " [[0.37560102 0.25709394 0.34313891 0.02416613]\n",
            " [0.41485587 0.38841201 0.02746139 0.16927074]\n",
            " [0.12324304 0.33588088 0.34542279 0.19545329]\n",
            " [0.14161586 0.29330071 0.15597618 0.40910725]\n",
            " [0.33280635 0.1032932  0.24507138 0.31882907]]\n"
          ]
        }
      ]
    },
    {
      "cell_type": "markdown",
      "source": [
        "Unique & duplicates in arr"
      ],
      "metadata": {
        "id": "xF_t_nhsl9bf"
      }
    },
    {
      "cell_type": "code",
      "source": [
        "arr5 = np.array([1, 3, 5, 3, 7, 9, 1, 5, 5])\n",
        "unique_elements = np.unique(arr5)\n",
        "duplicates = [x for x in unique_elements if np.sum(arr5 == x) > 1]\n",
        "print(\"\\nUnique Elements:\", unique_elements)\n",
        "print(\"Duplicates:\", duplicates)"
      ],
      "metadata": {
        "colab": {
          "base_uri": "https://localhost:8080/"
        },
        "id": "HU6b5dW2mAFN",
        "outputId": "f0b526bb-365d-4e17-f9f1-b45af1af3843"
      },
      "execution_count": null,
      "outputs": [
        {
          "output_type": "stream",
          "name": "stdout",
          "text": [
            "\n",
            "Unique Elements: [1 3 5 7 9]\n",
            "Duplicates: [np.int64(1), np.int64(3), np.int64(5)]\n"
          ]
        }
      ]
    },
    {
      "cell_type": "markdown",
      "source": [
        "6×6 array, extract middle 4×4, even numbers"
      ],
      "metadata": {
        "id": "JfhbBtE1mZYS"
      }
    },
    {
      "cell_type": "code",
      "source": [
        "arr6 = np.arange(1, 37).reshape(6, 6)\n",
        "middle_4x4 = arr6[1:5, 1:5]\n",
        "even_numbers = middle_4x4[middle_4x4 % 2 == 0]\n",
        "print(\"\\nMiddle 4×4 Submatrix:\\n\", middle_4x4)\n",
        "print(\"Even Numbers in Submatrix:\", even_numbers)"
      ],
      "metadata": {
        "colab": {
          "base_uri": "https://localhost:8080/"
        },
        "id": "PTnTMimomahD",
        "outputId": "b4f5436a-2a7f-47f4-d882-bc6e053c2f03"
      },
      "execution_count": null,
      "outputs": [
        {
          "output_type": "stream",
          "name": "stdout",
          "text": [
            "\n",
            "Middle 4×4 Submatrix:\n",
            " [[ 8  9 10 11]\n",
            " [14 15 16 17]\n",
            " [20 21 22 23]\n",
            " [26 27 28 29]]\n",
            "Even Numbers in Submatrix: [ 8 10 14 16 20 22 26 28]\n"
          ]
        }
      ]
    },
    {
      "cell_type": "markdown",
      "source": [
        "(3,4) -> (2,6) -> flatten -> (4,3)"
      ],
      "metadata": {
        "id": "cAAIEJwCmnH-"
      }
    },
    {
      "cell_type": "code",
      "source": [
        "arr7 = np.arange(12).reshape(3, 4)\n",
        "reshaped_2x6 = arr7.reshape(2, 6)\n",
        "flattened = reshaped_2x6.flatten()\n",
        "reshaped_4x3 = flattened.reshape(4, 3)\n",
        "print(\"\\nReshaped to (4,3):\\n\", reshaped_4x3)"
      ],
      "metadata": {
        "colab": {
          "base_uri": "https://localhost:8080/"
        },
        "id": "dxEvcjP8miCi",
        "outputId": "66f4fd85-543c-4c09-9a55-b87638bcc059"
      },
      "execution_count": null,
      "outputs": [
        {
          "output_type": "stream",
          "name": "stdout",
          "text": [
            "\n",
            "Reshaped to (4,3):\n",
            " [[ 0  1  2]\n",
            " [ 3  4  5]\n",
            " [ 6  7  8]\n",
            " [ 9 10 11]]\n"
          ]
        }
      ]
    },
    {
      "cell_type": "markdown",
      "source": [
        "Append new row & column"
      ],
      "metadata": {
        "id": "7N1m4qsSmrEq"
      }
    },
    {
      "cell_type": "code",
      "source": [
        "a = np.array([[1, 2], [3, 4]])\n",
        "a = np.vstack([a, [5, 6]])          # Add row\n",
        "a = np.column_stack([a, [7, 8, 9]]) # Add column\n",
        "print(\"\\nAfter Appending Row & Column:\\n\", a)"
      ],
      "metadata": {
        "colab": {
          "base_uri": "https://localhost:8080/"
        },
        "id": "XkpBYP2Wmvm8",
        "outputId": "f99b7cc5-bec4-4c2b-b039-f58d8910c058"
      },
      "execution_count": null,
      "outputs": [
        {
          "output_type": "stream",
          "name": "stdout",
          "text": [
            "\n",
            "After Appending Row & Column:\n",
            " [[1 2 7]\n",
            " [3 4 8]\n",
            " [5 6 9]]\n"
          ]
        }
      ]
    },
    {
      "cell_type": "markdown",
      "source": [
        "Join arrays, reshape to 3x3, extract diagonal"
      ],
      "metadata": {
        "id": "lz6JFT0-m2cI"
      }
    },
    {
      "cell_type": "code",
      "source": [
        "a9 = np.array([1, 2, 3])\n",
        "b9 = np.array([4, 5, 6])\n",
        "c9 = np.array([7, 8, 9])\n",
        "joined = np.concatenate([a9, b9, c9]).reshape(3, 3)\n",
        "diagonal = np.diag(joined)\n",
        "print(\"\\nDiagonal Elements:\", diagonal)"
      ],
      "metadata": {
        "id": "nh6aBYV-m1rK",
        "colab": {
          "base_uri": "https://localhost:8080/"
        },
        "outputId": "e8b0dc64-2e12-4286-8599-a0ec7a517a60"
      },
      "execution_count": null,
      "outputs": [
        {
          "output_type": "stream",
          "name": "stdout",
          "text": [
            "\n",
            "Diagonal Elements: [1 5 9]\n"
          ]
        }
      ]
    },
    {
      "cell_type": "markdown",
      "source": [
        "Integers from 1 to 20, divisible by 3 or 5"
      ],
      "metadata": {
        "id": "JKPjujZIpgOM"
      }
    },
    {
      "cell_type": "code",
      "source": [
        "arr10 = np.arange(1, 21)\n",
        "divisible = arr10[(arr10 % 3 == 0) | (arr10 % 5 == 0)]\n",
        "count_divisible = len(divisible)\n",
        "print(\"\\nDivisible by 3 or 5:\", divisible)\n",
        "print(\"Count:\", count_divisible)"
      ],
      "metadata": {
        "colab": {
          "base_uri": "https://localhost:8080/"
        },
        "id": "Vi598fPupqCw",
        "outputId": "7c66d1eb-2854-459f-8c73-1178dc8e8f40"
      },
      "execution_count": null,
      "outputs": [
        {
          "output_type": "stream",
          "name": "stdout",
          "text": [
            "\n",
            "Divisible by 3 or 5: [ 3  5  6  9 10 12 15 18 20]\n",
            "Count: 9\n"
          ]
        }
      ]
    },
    {
      "cell_type": "markdown",
      "source": [
        "# Pandas"
      ],
      "metadata": {
        "id": "UHsvLM7dqVZx"
      }
    },
    {
      "cell_type": "code",
      "source": [
        "import pandas as pd\n",
        "import numpy as np\n",
        "\n",
        "url = \"https://raw.githubusercontent.com/datasciencedojo/datasets/master/titanic.csv\"\n",
        "df = pd.read_csv(url)\n",
        "print(\"1. First 10 Rows:\\n\", df.head(10))"
      ],
      "metadata": {
        "colab": {
          "base_uri": "https://localhost:8080/"
        },
        "id": "w2HHtvbqqnq5",
        "outputId": "84804601-dd45-4a89-e3d9-7c24e804ecf0"
      },
      "execution_count": null,
      "outputs": [
        {
          "output_type": "stream",
          "name": "stdout",
          "text": [
            "1. First 10 Rows:\n",
            "    PassengerId  Survived  Pclass  \\\n",
            "0            1         0       3   \n",
            "1            2         1       1   \n",
            "2            3         1       3   \n",
            "3            4         1       1   \n",
            "4            5         0       3   \n",
            "5            6         0       3   \n",
            "6            7         0       1   \n",
            "7            8         0       3   \n",
            "8            9         1       3   \n",
            "9           10         1       2   \n",
            "\n",
            "                                                Name     Sex   Age  SibSp  \\\n",
            "0                            Braund, Mr. Owen Harris    male  22.0      1   \n",
            "1  Cumings, Mrs. John Bradley (Florence Briggs Th...  female  38.0      1   \n",
            "2                             Heikkinen, Miss. Laina  female  26.0      0   \n",
            "3       Futrelle, Mrs. Jacques Heath (Lily May Peel)  female  35.0      1   \n",
            "4                           Allen, Mr. William Henry    male  35.0      0   \n",
            "5                                   Moran, Mr. James    male   NaN      0   \n",
            "6                            McCarthy, Mr. Timothy J    male  54.0      0   \n",
            "7                     Palsson, Master. Gosta Leonard    male   2.0      3   \n",
            "8  Johnson, Mrs. Oscar W (Elisabeth Vilhelmina Berg)  female  27.0      0   \n",
            "9                Nasser, Mrs. Nicholas (Adele Achem)  female  14.0      1   \n",
            "\n",
            "   Parch            Ticket     Fare Cabin Embarked  \n",
            "0      0         A/5 21171   7.2500   NaN        S  \n",
            "1      0          PC 17599  71.2833   C85        C  \n",
            "2      0  STON/O2. 3101282   7.9250   NaN        S  \n",
            "3      0            113803  53.1000  C123        S  \n",
            "4      0            373450   8.0500   NaN        S  \n",
            "5      0            330877   8.4583   NaN        Q  \n",
            "6      0             17463  51.8625   E46        S  \n",
            "7      1            349909  21.0750   NaN        S  \n",
            "8      2            347742  11.1333   NaN        S  \n",
            "9      0            237736  30.0708   NaN        C  \n"
          ]
        }
      ]
    },
    {
      "cell_type": "code",
      "source": [
        "print(\"\\n2. Missing Values:\\n\", df.isnull().sum())"
      ],
      "metadata": {
        "colab": {
          "base_uri": "https://localhost:8080/"
        },
        "id": "c4jMJkjdqv_L",
        "outputId": "393c962a-9dcc-44fe-cdb4-566c7e63fb4c"
      },
      "execution_count": null,
      "outputs": [
        {
          "output_type": "stream",
          "name": "stdout",
          "text": [
            "\n",
            "2. Missing Values:\n",
            " PassengerId      0\n",
            "Survived         0\n",
            "Pclass           0\n",
            "Name             0\n",
            "Sex              0\n",
            "Age            177\n",
            "SibSp            0\n",
            "Parch            0\n",
            "Ticket           0\n",
            "Fare             0\n",
            "Cabin          687\n",
            "Embarked         2\n",
            "dtype: int64\n"
          ]
        }
      ]
    },
    {
      "cell_type": "code",
      "source": [
        "survival_percentage = df.groupby('Sex')['Survived'].mean() * 100\n",
        "print(\"\\n3. Survival Percentage by Gender (%):\\n\", survival_percentage)"
      ],
      "metadata": {
        "colab": {
          "base_uri": "https://localhost:8080/"
        },
        "id": "iWUMvkQiq2LF",
        "outputId": "ac797726-435a-41ec-ae62-f4aee60a521b"
      },
      "execution_count": null,
      "outputs": [
        {
          "output_type": "stream",
          "name": "stdout",
          "text": [
            "\n",
            "3. Survival Percentage by Gender (%):\n",
            " Sex\n",
            "female    74.203822\n",
            "male      18.890815\n",
            "Name: Survived, dtype: float64\n"
          ]
        }
      ]
    },
    {
      "cell_type": "code",
      "source": [
        "avg_age = df['Age'].mean()\n",
        "median_age = df['Age'].median()\n",
        "std_age = df['Age'].std()\n",
        "print(f\"\\n4. Age Stats -> Avg: {avg_age:.2f}, Median: {median_age:.2f}, Std Dev: {std_age:.2f}\")"
      ],
      "metadata": {
        "colab": {
          "base_uri": "https://localhost:8080/"
        },
        "id": "W0OA-yo8q7iX",
        "outputId": "86e7e21e-fc2c-4f03-b4aa-345c41da9b0a"
      },
      "execution_count": null,
      "outputs": [
        {
          "output_type": "stream",
          "name": "stdout",
          "text": [
            "\n",
            "4. Age Stats -> Avg: 29.70, Median: 28.00, Std Dev: 14.53\n"
          ]
        }
      ]
    },
    {
      "cell_type": "code",
      "source": [
        "pclass_count = df['Pclass'].value_counts()\n",
        "print(\"\\n5. Passenger Count by Class:\\n\", pclass_count)"
      ],
      "metadata": {
        "colab": {
          "base_uri": "https://localhost:8080/"
        },
        "id": "hQ9bCujjq_Ol",
        "outputId": "216f398a-7adc-41d9-972b-fa25d5f36b3a"
      },
      "execution_count": null,
      "outputs": [
        {
          "output_type": "stream",
          "name": "stdout",
          "text": [
            "\n",
            "5. Passenger Count by Class:\n",
            " Pclass\n",
            "3    491\n",
            "1    216\n",
            "2    184\n",
            "Name: count, dtype: int64\n"
          ]
        }
      ]
    },
    {
      "cell_type": "code",
      "source": [
        "female_under18_survived = df[(df['Sex'] == 'female') & (df['Age'] < 18) & (df['Survived'] == 1)]\n",
        "print(\"\\n6. Female Passengers <18 & Survived:\\n\", female_under18_survived)"
      ],
      "metadata": {
        "colab": {
          "base_uri": "https://localhost:8080/"
        },
        "id": "_Rp4qXg-rCLz",
        "outputId": "1226439e-612c-4b8e-953a-c88455dc68dc"
      },
      "execution_count": null,
      "outputs": [
        {
          "output_type": "stream",
          "name": "stdout",
          "text": [
            "\n",
            "6. Female Passengers <18 & Survived:\n",
            "      PassengerId  Survived  Pclass  \\\n",
            "9             10         1       2   \n",
            "10            11         1       3   \n",
            "22            23         1       3   \n",
            "39            40         1       3   \n",
            "43            44         1       2   \n",
            "58            59         1       2   \n",
            "68            69         1       3   \n",
            "84            85         1       2   \n",
            "156          157         1       3   \n",
            "172          173         1       3   \n",
            "184          185         1       3   \n",
            "208          209         1       3   \n",
            "233          234         1       3   \n",
            "237          238         1       2   \n",
            "307          308         1       1   \n",
            "329          330         1       1   \n",
            "381          382         1       3   \n",
            "389          390         1       2   \n",
            "435          436         1       1   \n",
            "446          447         1       2   \n",
            "448          449         1       3   \n",
            "469          470         1       3   \n",
            "479          480         1       3   \n",
            "504          505         1       1   \n",
            "530          531         1       2   \n",
            "535          536         1       2   \n",
            "618          619         1       2   \n",
            "644          645         1       3   \n",
            "689          690         1       1   \n",
            "691          692         1       3   \n",
            "720          721         1       2   \n",
            "750          751         1       2   \n",
            "777          778         1       3   \n",
            "780          781         1       3   \n",
            "781          782         1       1   \n",
            "830          831         1       3   \n",
            "853          854         1       1   \n",
            "875          876         1       3   \n",
            "\n",
            "                                                  Name     Sex    Age  SibSp  \\\n",
            "9                  Nasser, Mrs. Nicholas (Adele Achem)  female  14.00      1   \n",
            "10                     Sandstrom, Miss. Marguerite Rut  female   4.00      1   \n",
            "22                         McGowan, Miss. Anna \"Annie\"  female  15.00      0   \n",
            "39                         Nicola-Yarred, Miss. Jamila  female  14.00      1   \n",
            "43            Laroche, Miss. Simonne Marie Anne Andree  female   3.00      1   \n",
            "58                        West, Miss. Constance Mirium  female   5.00      1   \n",
            "68                     Andersson, Miss. Erna Alexandra  female  17.00      4   \n",
            "84                                 Ilett, Miss. Bertha  female  17.00      0   \n",
            "156                   Gilnagh, Miss. Katherine \"Katie\"  female  16.00      0   \n",
            "172                       Johnson, Miss. Eleanor Ileen  female   1.00      1   \n",
            "184                Kink-Heilmann, Miss. Luise Gretchen  female   4.00      0   \n",
            "208                          Carr, Miss. Helen \"Ellen\"  female  16.00      0   \n",
            "233                     Asplund, Miss. Lillian Gertrud  female   5.00      4   \n",
            "237                   Collyer, Miss. Marjorie \"Lottie\"  female   8.00      0   \n",
            "307  Penasco y Castellana, Mrs. Victor de Satode (M...  female  17.00      1   \n",
            "329                       Hippach, Miss. Jean Gertrude  female  16.00      0   \n",
            "381                        Nakid, Miss. Maria (\"Mary\")  female   1.00      0   \n",
            "389                              Lehmann, Miss. Bertha  female  17.00      0   \n",
            "435                          Carter, Miss. Lucile Polk  female  14.00      1   \n",
            "446                  Mellinger, Miss. Madeleine Violet  female  13.00      0   \n",
            "448                     Baclini, Miss. Marie Catherine  female   5.00      2   \n",
            "469                      Baclini, Miss. Helene Barbara  female   0.75      2   \n",
            "479                           Hirvonen, Miss. Hildur E  female   2.00      0   \n",
            "504                              Maioni, Miss. Roberta  female  16.00      0   \n",
            "530                           Quick, Miss. Phyllis May  female   2.00      1   \n",
            "535                             Hart, Miss. Eva Miriam  female   7.00      0   \n",
            "618                        Becker, Miss. Marion Louise  female   4.00      2   \n",
            "644                             Baclini, Miss. Eugenie  female   0.75      2   \n",
            "689                  Madill, Miss. Georgette Alexandra  female  15.00      0   \n",
            "691                                 Karun, Miss. Manca  female   4.00      0   \n",
            "720                  Harper, Miss. Annie Jessie \"Nina\"  female   6.00      0   \n",
            "750                                  Wells, Miss. Joan  female   4.00      1   \n",
            "777                      Emanuel, Miss. Virginia Ethel  female   5.00      0   \n",
            "780                               Ayoub, Miss. Banoura  female  13.00      0   \n",
            "781          Dick, Mrs. Albert Adrian (Vera Gillespie)  female  17.00      1   \n",
            "830            Yasbeck, Mrs. Antoni (Selini Alexander)  female  15.00      1   \n",
            "853                          Lines, Miss. Mary Conover  female  16.00      0   \n",
            "875                   Najib, Miss. Adele Kiamie \"Jane\"  female  15.00      0   \n",
            "\n",
            "     Parch         Ticket      Fare    Cabin Embarked  \n",
            "9        0         237736   30.0708      NaN        C  \n",
            "10       1        PP 9549   16.7000       G6        S  \n",
            "22       0         330923    8.0292      NaN        Q  \n",
            "39       0           2651   11.2417      NaN        C  \n",
            "43       2  SC/Paris 2123   41.5792      NaN        C  \n",
            "58       2     C.A. 34651   27.7500      NaN        S  \n",
            "68       2        3101281    7.9250      NaN        S  \n",
            "84       0     SO/C 14885   10.5000      NaN        S  \n",
            "156      0          35851    7.7333      NaN        Q  \n",
            "172      1         347742   11.1333      NaN        S  \n",
            "184      2         315153   22.0250      NaN        S  \n",
            "208      0         367231    7.7500      NaN        Q  \n",
            "233      2         347077   31.3875      NaN        S  \n",
            "237      2     C.A. 31921   26.2500      NaN        S  \n",
            "307      0       PC 17758  108.9000      C65        C  \n",
            "329      1         111361   57.9792      B18        C  \n",
            "381      2           2653   15.7417      NaN        C  \n",
            "389      0        SC 1748   12.0000      NaN        C  \n",
            "435      2         113760  120.0000  B96 B98        S  \n",
            "446      1         250644   19.5000      NaN        S  \n",
            "448      1           2666   19.2583      NaN        C  \n",
            "469      1           2666   19.2583      NaN        C  \n",
            "479      1        3101298   12.2875      NaN        S  \n",
            "504      0         110152   86.5000      B79        S  \n",
            "530      1          26360   26.0000      NaN        S  \n",
            "535      2   F.C.C. 13529   26.2500      NaN        S  \n",
            "618      1         230136   39.0000       F4        S  \n",
            "644      1           2666   19.2583      NaN        C  \n",
            "689      1          24160  211.3375       B5        S  \n",
            "691      1         349256   13.4167      NaN        C  \n",
            "720      1         248727   33.0000      NaN        S  \n",
            "750      1          29103   23.0000      NaN        S  \n",
            "777      0         364516   12.4750      NaN        S  \n",
            "780      0           2687    7.2292      NaN        C  \n",
            "781      0          17474   57.0000      B20        S  \n",
            "830      0           2659   14.4542      NaN        C  \n",
            "853      1       PC 17592   39.4000      D28        S  \n",
            "875      0           2667    7.2250      NaN        C  \n"
          ]
        }
      ]
    },
    {
      "cell_type": "code",
      "source": [
        "df['Age'].fillna(median_age, inplace=True)\n",
        "print(\"\\n7. Missing Ages Filled with Median.\")"
      ],
      "metadata": {
        "colab": {
          "base_uri": "https://localhost:8080/"
        },
        "id": "HTLcU-85rESj",
        "outputId": "9bf2f912-a890-4cc0-831e-c94d7509a56a"
      },
      "execution_count": null,
      "outputs": [
        {
          "output_type": "stream",
          "name": "stdout",
          "text": [
            "\n",
            "7. Missing Ages Filled with Median.\n"
          ]
        },
        {
          "output_type": "stream",
          "name": "stderr",
          "text": [
            "/tmp/ipython-input-3775223418.py:1: FutureWarning: A value is trying to be set on a copy of a DataFrame or Series through chained assignment using an inplace method.\n",
            "The behavior will change in pandas 3.0. This inplace method will never work because the intermediate object on which we are setting values always behaves as a copy.\n",
            "\n",
            "For example, when doing 'df[col].method(value, inplace=True)', try using 'df.method({col: value}, inplace=True)' or df[col] = df[col].method(value) instead, to perform the operation inplace on the original object.\n",
            "\n",
            "\n",
            "  df['Age'].fillna(median_age, inplace=True)\n"
          ]
        }
      ]
    },
    {
      "cell_type": "code",
      "source": [
        "df['age_group'] = np.where(df['Age'] < 18, 'Child',\n",
        "                    np.where(df['Age'] <= 60, 'Adult', 'Senior'))\n",
        "print(\"\\n8. Added age_group column:\\n\", df[['Age', 'age_group']].head(10))"
      ],
      "metadata": {
        "colab": {
          "base_uri": "https://localhost:8080/"
        },
        "id": "jmWf0nEQraJz",
        "outputId": "dc999001-e3fc-48e6-cf8d-3c3d08b02cbc"
      },
      "execution_count": null,
      "outputs": [
        {
          "output_type": "stream",
          "name": "stdout",
          "text": [
            "\n",
            "8. Added age_group column:\n",
            "     Age age_group\n",
            "0  22.0     Adult\n",
            "1  38.0     Adult\n",
            "2  26.0     Adult\n",
            "3  35.0     Adult\n",
            "4  35.0     Adult\n",
            "5  28.0     Adult\n",
            "6  54.0     Adult\n",
            "7   2.0     Child\n",
            "8  27.0     Adult\n",
            "9  14.0     Child\n"
          ]
        }
      ]
    },
    {
      "cell_type": "code",
      "source": [
        "top5_fare = df.sort_values(by='Fare', ascending=False).head(5)\n",
        "print(\"\\n9. Top 5 Highest Fare Passengers:\\n\", top5_fare[['Name', 'Fare']])"
      ],
      "metadata": {
        "colab": {
          "base_uri": "https://localhost:8080/"
        },
        "id": "QiNP5ReCrdiu",
        "outputId": "fedcdde9-c084-451c-d7d5-96b7f66c06b3"
      },
      "execution_count": null,
      "outputs": [
        {
          "output_type": "stream",
          "name": "stdout",
          "text": [
            "\n",
            "9. Top 5 Highest Fare Passengers:\n",
            "                                    Name      Fare\n",
            "679  Cardeza, Mr. Thomas Drake Martinez  512.3292\n",
            "258                    Ward, Miss. Anna  512.3292\n",
            "737              Lesurer, Mr. Gustave J  512.3292\n",
            "88           Fortune, Miss. Mabel Helen  263.0000\n",
            "438                   Fortune, Mr. Mark  263.0000\n"
          ]
        }
      ]
    },
    {
      "cell_type": "code",
      "source": [
        "avg_fare_grouped = df.groupby(['Pclass', 'Sex'])['Fare'].mean()\n",
        "print(\"\\n10. Average Fare by Class & Gender:\\n\", avg_fare_grouped)"
      ],
      "metadata": {
        "colab": {
          "base_uri": "https://localhost:8080/"
        },
        "id": "D5VrUrqBrg-k",
        "outputId": "d76fd83d-d147-4e01-d9a0-5c5f7ff7802a"
      },
      "execution_count": null,
      "outputs": [
        {
          "output_type": "stream",
          "name": "stdout",
          "text": [
            "\n",
            "10. Average Fare by Class & Gender:\n",
            " Pclass  Sex   \n",
            "1       female    106.125798\n",
            "        male       67.226127\n",
            "2       female     21.970121\n",
            "        male       19.741782\n",
            "3       female     16.118810\n",
            "        male       12.661633\n",
            "Name: Fare, dtype: float64\n"
          ]
        }
      ]
    },
    {
      "cell_type": "code",
      "source": [
        "df.rename(columns={'Sex': 'gender', 'Fare': 'ticket_fare'}, inplace=True)\n",
        "print(\"\\n11. Columns Renamed.\")"
      ],
      "metadata": {
        "id": "yQeLCYl1rmqg",
        "outputId": "e04df546-b53f-4819-d698-248491ed2b2f",
        "colab": {
          "base_uri": "https://localhost:8080/"
        }
      },
      "execution_count": null,
      "outputs": [
        {
          "output_type": "stream",
          "name": "stdout",
          "text": [
            "\n",
            "11. Columns Renamed.\n"
          ]
        }
      ]
    },
    {
      "cell_type": "code",
      "source": [
        "survival_by_class = df.groupby(['Pclass', 'Survived']).size()\n",
        "print(\"\\n12. Survival Count by Class:\\n\", survival_by_class)"
      ],
      "metadata": {
        "id": "8N7dGPhRrorQ",
        "outputId": "42acc13b-84bc-4f37-8715-43a5b063d264",
        "colab": {
          "base_uri": "https://localhost:8080/"
        }
      },
      "execution_count": null,
      "outputs": [
        {
          "output_type": "stream",
          "name": "stdout",
          "text": [
            "\n",
            "12. Survival Count by Class:\n",
            " Pclass  Survived\n",
            "1       0            80\n",
            "        1           136\n",
            "2       0            97\n",
            "        1            87\n",
            "3       0           372\n",
            "        1           119\n",
            "dtype: int64\n"
          ]
        }
      ]
    },
    {
      "cell_type": "code",
      "source": [
        "avg_age_grouped = df.groupby(['Pclass', 'gender'])['Age'].mean()\n",
        "print(\"\\n13. Average Age by Class & Gender:\\n\", avg_age_grouped)"
      ],
      "metadata": {
        "id": "3s1V-8nkrql2",
        "outputId": "5234f108-ab3c-42eb-d91a-9fb163aef110",
        "colab": {
          "base_uri": "https://localhost:8080/"
        }
      },
      "execution_count": null,
      "outputs": [
        {
          "output_type": "stream",
          "name": "stdout",
          "text": [
            "\n",
            "13. Average Age by Class & Gender:\n",
            " Pclass  gender\n",
            "1       female    33.978723\n",
            "        male      38.995246\n",
            "2       female    28.703947\n",
            "        male      30.512315\n",
            "3       female    23.572917\n",
            "        male      26.911873\n",
            "Name: Age, dtype: float64\n"
          ]
        }
      ]
    }
  ]
}