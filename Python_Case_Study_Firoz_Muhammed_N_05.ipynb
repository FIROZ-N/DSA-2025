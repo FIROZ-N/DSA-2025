{
  "nbformat": 4,
  "nbformat_minor": 0,
  "metadata": {
    "colab": {
      "provenance": [],
      "authorship_tag": "ABX9TyOEq0jvg1i74HNhyFGdmufG",
      "include_colab_link": true
    },
    "kernelspec": {
      "name": "python3",
      "display_name": "Python 3"
    },
    "language_info": {
      "name": "python"
    }
  },
  "cells": [
    {
      "cell_type": "markdown",
      "metadata": {
        "id": "view-in-github",
        "colab_type": "text"
      },
      "source": [
        "<a href=\"https://colab.research.google.com/github/FIROZ-N/DSA-2025/blob/main/Python_Case_Study_Firoz_Muhammed_N_05.ipynb\" target=\"_parent\"><img src=\"https://colab.research.google.com/assets/colab-badge.svg\" alt=\"Open In Colab\"/></a>"
      ]
    },
    {
      "cell_type": "code",
      "execution_count": 3,
      "metadata": {
        "colab": {
          "base_uri": "https://localhost:8080/"
        },
        "id": "flgX0Zlsstpq",
        "outputId": "4cc59657-9328-4c1d-a6a7-61fb44b74064"
      },
      "outputs": [
        {
          "output_type": "stream",
          "name": "stdout",
          "text": [
            "         Country  Population\n",
            "0  United States  1278642419\n",
            "1          China   792846414\n",
            "2          India  1001406378\n",
            "3          Japan  1206263687\n",
            "4        Germany   428734972\n",
            "-----------------------------------------------------------------\n",
            "           Country  Population  Internet_Users  Intrenet_penetration\n",
            "0    United States  1278642419       745595490             58.311493\n",
            "1            China   792846414       685275917             86.432366\n",
            "2            India  1001406378       606850704             60.599844\n",
            "3            Japan  1206263687      1112451555             92.222917\n",
            "4          Germany   428734972       246827121             57.571026\n",
            "5           Russia   420968276       162156967             38.519997\n",
            "6           Brazil   675094950        24027075              3.559066\n",
            "7   United Kingdom   674991378       266047041             39.414880\n",
            "8           France   434389014       216417853             49.821208\n",
            "9            Italy   254467210        87191493             34.264333\n",
            "10          Canada  1438267572       894102645             62.165251\n",
            "11       Australia   439285667       201619113             45.897039\n",
            "12     South Korea   618608295       291770691             47.165661\n",
            "13           Spain   898664919       794943861             88.458317\n",
            "14          Mexico   653061058       135489564             20.746845\n",
            "15       Indonesia    93409749         4584702              4.908162\n",
            "16          Turkey   247285876       128924625             52.135863\n",
            "17    Saudi Arabia   958477463       108944665             11.366429\n",
            "18       Argentina  1432830251       421477197             29.415710\n",
            "19    South Africa   916989541       739194223             80.610976\n",
            "Japan : 92.22291667974251\n"
          ]
        }
      ],
      "source": [
        "import pandas as pd\n",
        "\n",
        "dt = pd.read_csv(\"pp.csv\")\n",
        "js = pd.read_json(\"iu.json\")\n",
        "\n",
        "dt = dt.rename(columns={\"country\": \"Country\"})\n",
        "dt = dt.rename(columns={\"population\": \"Population\"})\n",
        "js = js.rename(columns={\"country\": \"Country\", \"internet_users\": \"Internet_Users\"})\n",
        "dt = dt.drop_duplicates()\n",
        "dt[\"Population\"] = dt[\"Population\"].fillna(dt[\"Population\"].mean())\n",
        "\n",
        "#Merging dt and js\n",
        "mrg = pd.merge(dt, js, on=\"Country\")\n",
        "mrg[\"Intrenet_penetration\"] = (mrg[\"Internet_Users\"] / mrg[\"Population\"]) * 100\n",
        "\n",
        "\n",
        "print(dt.head(5))\n",
        "print(\"-----------------------------------------------------------------\")\n",
        "print(mrg)\n",
        "\n",
        "hip = mrg.loc[mrg[\"Intrenet_penetration\"].idxmax()]\n",
        "print(hip[\"Country\"], end=\" : \")\n",
        "print(hip[\"Intrenet_penetration\"])"
      ]
    },
    {
      "cell_type": "code",
      "source": [
        "import pandas as pd\n",
        "\n",
        "dt = pd.read_excel(\"gdp.xlsx\")\n",
        "dt = dt.drop_duplicates()\n",
        "dt[\"GDP\"] = dt[\"GDP\"].fillna(dt[\"GDP\"].mean())\n",
        "\n",
        "print(dt)\n",
        "\n"
      ],
      "metadata": {
        "colab": {
          "base_uri": "https://localhost:8080/"
        },
        "id": "Fwygj-dItmAM",
        "outputId": "a3500668-4e41-41a2-9125-ce213dc92450"
      },
      "execution_count": 4,
      "outputs": [
        {
          "output_type": "stream",
          "name": "stdout",
          "text": [
            "           Country             GDP\n",
            "0    United States  10450436373455\n",
            "1            China   5086547998939\n",
            "2            India  14540718118693\n",
            "3            Japan  12473835857216\n",
            "4          Germany   2038442396490\n",
            "5           Russia  10987125474745\n",
            "6           Brazil   8793052816619\n",
            "7   United Kingdom  11799848684255\n",
            "8           France   7758669752269\n",
            "9            Italy  12907234326850\n",
            "10          Canada   8158351525190\n",
            "11       Australia   5444267975247\n",
            "12     South Korea   6562909541266\n",
            "13           Spain  15275513099842\n",
            "14          Mexico   2775281278756\n",
            "15       Indonesia  12404144955318\n",
            "16          Turkey   2581127745611\n",
            "17    Saudi Arabia   8855399647233\n",
            "18       Argentina   8767336567320\n",
            "19    South Africa   3328747361982\n"
          ]
        }
      ]
    },
    {
      "cell_type": "code",
      "source": [
        "import pandas as pd\n",
        "\n",
        "dt = pd.read_json(\"iu.json\")\n",
        "dt = dt.rename(columns={\"country\": \"Country\", \"internet_users\": \"Internet_Users\"})\n",
        "dt = dt.drop_duplicates()\n",
        "dt[\"Internet_Users\"] = dt[\"Internet_Users\"].fillna(dt[\"Internet_Users\"].mean())\n",
        "\n",
        "print(dt)"
      ],
      "metadata": {
        "colab": {
          "base_uri": "https://localhost:8080/"
        },
        "id": "384k7Zoxt_d2",
        "outputId": "f55dc905-9e5b-4f36-803d-52a2cd222393"
      },
      "execution_count": 5,
      "outputs": [
        {
          "output_type": "stream",
          "name": "stdout",
          "text": [
            "           Country  Internet_Users\n",
            "0    United States       745595490\n",
            "1            China       685275917\n",
            "2            India       606850704\n",
            "3            Japan      1112451555\n",
            "4          Germany       246827121\n",
            "5           Russia       162156967\n",
            "6           Brazil        24027075\n",
            "7   United Kingdom       266047041\n",
            "8           France       216417853\n",
            "9            Italy        87191493\n",
            "10          Canada       894102645\n",
            "11       Australia       201619113\n",
            "12     South Korea       291770691\n",
            "13           Spain       794943861\n",
            "14          Mexico       135489564\n",
            "15       Indonesia         4584702\n",
            "16          Turkey       128924625\n",
            "17    Saudi Arabia       108944665\n",
            "18       Argentina       421477197\n",
            "19    South Africa       739194223\n"
          ]
        }
      ]
    },
    {
      "cell_type": "code",
      "source": [
        "import pandas as pd\n",
        "\n",
        "dt = pd.read_xml(\"lr.xml\")\n",
        "dt = dt.rename(columns={\"name\": \"Country\", \"literacy_rate\": \"Literacy_Rate\"})\n",
        "dt = dt.drop_duplicates()\n",
        "dt[\"Literacy_Rate\"] = dt[\"Literacy_Rate\"].fillna(dt[\"Literacy_Rate\"].mean())\n",
        "\n",
        "print(dt)\n"
      ],
      "metadata": {
        "colab": {
          "base_uri": "https://localhost:8080/"
        },
        "id": "NIKdQ7y9uLRz",
        "outputId": "ae573708-cc34-4fed-b6f7-7239de91201d"
      },
      "execution_count": 6,
      "outputs": [
        {
          "output_type": "stream",
          "name": "stdout",
          "text": [
            "           Country  Literacy_Rate\n",
            "0    United States           72.7\n",
            "1            China           82.2\n",
            "2            India           80.3\n",
            "3            Japan           97.5\n",
            "4          Germany           92.9\n",
            "5           Russia           89.1\n",
            "6           Brazil           81.0\n",
            "7   United Kingdom           82.9\n",
            "8           France           97.6\n",
            "9            Italy           83.7\n",
            "10          Canada           70.8\n",
            "11       Australia           71.6\n",
            "12     South Korea           66.4\n",
            "13           Spain           60.6\n",
            "14          Mexico           76.5\n",
            "15       Indonesia           75.4\n",
            "16          Turkey           71.4\n",
            "17    Saudi Arabia           60.5\n",
            "18       Argentina           67.8\n",
            "19    South Africa           87.7\n"
          ]
        }
      ]
    },
    {
      "cell_type": "code",
      "source": [
        "# Merging Dataset based o country name\n",
        "import pandas as pd\n",
        "\n",
        "# Load\n",
        "gd = pd.read_excel(\"gdp.xlsx\")\n",
        "iu = pd.read_json(\"iu.json\")\n",
        "lr = pd.read_xml(\"lr.xml\")\n",
        "pp = pd.read_csv(\"pp.csv\")\n",
        "\n",
        "#Standardizing\n",
        "iu = iu.rename(columns={\n",
        "    \"country\": \"Country\",\n",
        "    \"internet_users\": \"Internet_Users\"\n",
        "})\n",
        "pp = pp.rename(columns={\n",
        "    \"country\": \"Country\",\n",
        "    \"population\": \"Population\"\n",
        "})\n",
        "lr = lr.rename(columns={\n",
        "    \"name\": \"Country\",\n",
        "    \"literacy_rate\": \"Literacy_Rate\"\n",
        "})\n",
        "\n",
        "\n",
        "#Merging\n",
        "mrg0 = pd.merge(gd, iu, on=\"Country\")\n",
        "mrg1 = pd.merge(mrg0, pp, on=\"Country\")\n",
        "mrg = pd.merge(mrg1, lr, on=\"Country\")\n",
        "\n",
        "#penetration rate\n",
        "mrg[\"Pen_Rate\"] = mrg.apply(\n",
        "    lambda row: (row[\"Internet_Users\"]/ row[\"Population\"]) * 100 if row[\"Population\"] > 0 else 0, axis=1\n",
        ")\n",
        "\n",
        "hh = mrg.loc[mrg[\"Pen_Rate\"].idxmax()]\n",
        "hgdp = mrg.loc[mrg[\"GDP\"].idxmax()]\n",
        "hgpp = mrg.loc[mrg[\"Population\"].idxmax()]\n",
        "hglr = mrg.loc[mrg[\"Literacy_Rate\"].idxmax()]\n",
        "hgiu = mrg.loc[mrg[\"Pen_Rate\"].idxmax()]\n",
        "\n",
        "print(\"High GDP : \",hgdp[\"Country\"], hgdp[\"GDP\"])\n",
        "print(\"High Population : \",hgpp[\"Country\"], hgpp[\"Population\"])\n",
        "print(\"High Literacy Rate : \",hglr[\"Country\"], hglr[\"Literacy_Rate\"])\n",
        "print(\"High Internet Usage : \",hh[\"Country\"], hh[\"Pen_Rate\"])\n",
        "\n",
        "rlt = mrg[[\"GDP\", \"Population\", \"Literacy_Rate\", \"Pen_Rate\"]].corr()\n",
        "print(rlt)\n",
        "\n",
        "\n",
        "avg_ltr = mrg[\"Literacy_Rate\"].mean()\n",
        "\n",
        "print(\"Average Literacy Rate : \",avg_ltr)\n"
      ],
      "metadata": {
        "colab": {
          "base_uri": "https://localhost:8080/"
        },
        "id": "LYTLOL7tuaYq",
        "outputId": "604eeae0-d552-49e2-c378-5315d03202d8"
      },
      "execution_count": 7,
      "outputs": [
        {
          "output_type": "stream",
          "name": "stdout",
          "text": [
            "High GDP :  Spain 15275513099842\n",
            "High Population :  Canada 1438267572\n",
            "High Literacy Rate :  France 97.6\n",
            "High Internet Usage :  Japan 92.22291667974251\n",
            "                    GDP  Population  Literacy_Rate  Pen_Rate\n",
            "GDP            1.000000    0.183118      -0.081700  0.002893\n",
            "Population     0.183118    1.000000      -0.229585  0.358533\n",
            "Literacy_Rate -0.081700   -0.229585       1.000000  0.235330\n",
            "Pen_Rate       0.002893    0.358533       0.235330  1.000000\n",
            "Average Literacy Rate :  78.43\n"
          ]
        }
      ]
    },
    {
      "cell_type": "code",
      "source": [
        "mat = mrg[\"Literacy_Rate\"].corr(mrg[\"Pen_Rate\"])\n",
        "print(mat)"
      ],
      "metadata": {
        "colab": {
          "base_uri": "https://localhost:8080/"
        },
        "id": "5KLcibwpvKUs",
        "outputId": "908ff1ea-8afa-4635-b457-f04e291eecc2"
      },
      "execution_count": 10,
      "outputs": [
        {
          "output_type": "stream",
          "name": "stdout",
          "text": [
            "0.23533009202707547\n"
          ]
        }
      ]
    },
    {
      "cell_type": "code",
      "source": [
        "high_gdp = mrg[mrg[\"GDP\"] > 10000]\n",
        "\n",
        "for idx, row in high_gdp.iterrows():\n",
        "  print(row['Country'], end=\" : \")\n",
        "  print(row['GDP'])\n"
      ],
      "metadata": {
        "colab": {
          "base_uri": "https://localhost:8080/"
        },
        "id": "U1DEdBvzxaVO",
        "outputId": "0accccec-7af5-46db-92bf-52d66a464a21"
      },
      "execution_count": 22,
      "outputs": [
        {
          "output_type": "stream",
          "name": "stdout",
          "text": [
            "United States : 10450436373455\n",
            "China : 5086547998939\n",
            "India : 14540718118693\n",
            "Japan : 12473835857216\n",
            "Germany : 2038442396490\n",
            "Russia : 10987125474745\n",
            "Brazil : 8793052816619\n",
            "United Kingdom : 11799848684255\n",
            "France : 7758669752269\n",
            "Italy : 12907234326850\n",
            "Canada : 8158351525190\n",
            "Australia : 5444267975247\n",
            "South Korea : 6562909541266\n",
            "Spain : 15275513099842\n",
            "Mexico : 2775281278756\n",
            "Indonesia : 12404144955318\n",
            "Turkey : 2581127745611\n",
            "Saudi Arabia : 8855399647233\n",
            "Argentina : 8767336567320\n",
            "South Africa : 3328747361982\n"
          ]
        }
      ]
    },
    {
      "cell_type": "code",
      "source": [
        "sm = mrg[\"Population\"].sum()\n",
        "print(\"Total Population : \", sm)"
      ],
      "metadata": {
        "colab": {
          "base_uri": "https://localhost:8080/"
        },
        "id": "jB_7RcYY1yao",
        "outputId": "4b15da47-c3da-4423-d91a-04d6bf67e589"
      },
      "execution_count": 30,
      "outputs": [
        {
          "output_type": "stream",
          "name": "stdout",
          "text": [
            "Total Population :  14864685089\n"
          ]
        }
      ]
    },
    {
      "cell_type": "code",
      "source": [
        "ll = mrg.sort_values(\"Literacy_Rate\").head(5)\n",
        "print(ll[[\"Country\", \"Literacy_Rate\", \"Pen_Rate\"]])"
      ],
      "metadata": {
        "colab": {
          "base_uri": "https://localhost:8080/"
        },
        "id": "CwRe56045vHA",
        "outputId": "b3362cff-d704-4ceb-f5a3-eeddc509000c"
      },
      "execution_count": 43,
      "outputs": [
        {
          "output_type": "stream",
          "name": "stdout",
          "text": [
            "         Country  Literacy_Rate   Pen_Rate\n",
            "17  Saudi Arabia           60.5  11.366429\n",
            "13         Spain           60.6  88.458317\n",
            "12   South Korea           66.4  47.165661\n",
            "18     Argentina           67.8  29.415710\n",
            "10        Canada           70.8  62.165251\n"
          ]
        }
      ]
    },
    {
      "cell_type": "code",
      "source": [
        "ll = mrg.sort_values(\"Literacy_Rate\", ascending=False)\n",
        "print(ll[[\"Country\", \"Literacy_Rate\", \"Population\"]].head(5))\n"
      ],
      "metadata": {
        "colab": {
          "base_uri": "https://localhost:8080/"
        },
        "id": "-mFojwZ-6ini",
        "outputId": "fcd84506-b7a0-41c1-cc27-6d61aac5fa77"
      },
      "execution_count": 53,
      "outputs": [
        {
          "output_type": "stream",
          "name": "stdout",
          "text": [
            "         Country  Literacy_Rate  Population\n",
            "8         France           97.6   434389014\n",
            "3          Japan           97.5  1206263687\n",
            "4        Germany           92.9   428734972\n",
            "5         Russia           89.1   420968276\n",
            "19  South Africa           87.7   916989541\n"
          ]
        }
      ]
    }
  ]
}