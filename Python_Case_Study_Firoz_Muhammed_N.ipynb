{
  "nbformat": 4,
  "nbformat_minor": 0,
  "metadata": {
    "colab": {
      "provenance": [],
      "authorship_tag": "ABX9TyPit+JJEUGBVpQlFmXkTpBf",
      "include_colab_link": true
    },
    "kernelspec": {
      "name": "python3",
      "display_name": "Python 3"
    },
    "language_info": {
      "name": "python"
    }
  },
  "cells": [
    {
      "cell_type": "markdown",
      "metadata": {
        "id": "view-in-github",
        "colab_type": "text"
      },
      "source": [
        "<a href=\"https://colab.research.google.com/github/FIROZ-N/DSA-2025/blob/main/Python_Case_Study_Firoz_Muhammed_N.ipynb\" target=\"_parent\"><img src=\"https://colab.research.google.com/assets/colab-badge.svg\" alt=\"Open In Colab\"/></a>"
      ]
    },
    {
      "cell_type": "markdown",
      "source": [
        "\n",
        "\n",
        "---\n",
        "\n",
        "\n",
        "1.Dataset: Monthly temperatures in a city (in °C): 12, 15, 14, 16, 18, 20, 22,19,17, 15, 13, 10\n",
        "---\n",
        "\n",
        "\n",
        "a) Calculate the mean temperature.\n",
        "\n",
        "---\n",
        "\n",
        "\n",
        "b) Calculate the median temperature.\n",
        "\n",
        "---\n",
        "\n",
        "\n",
        "c) Find the mode of the temperature data.\n",
        "\n",
        "---\n",
        "\n",
        "\n",
        "d) Range and Variance\n"
      ],
      "metadata": {
        "id": "Ehiq_DOimoEw"
      }
    },
    {
      "cell_type": "code",
      "execution_count": 74,
      "metadata": {
        "colab": {
          "base_uri": "https://localhost:8080/"
        },
        "id": "_XUYgqx6ma2R",
        "outputId": "97121eff-1176-4184-f7e1-46232e5cc7e3"
      },
      "outputs": [
        {
          "output_type": "stream",
          "name": "stdout",
          "text": [
            "Mean : 15.916666666666666\n"
          ]
        }
      ],
      "source": [
        "temp = [12, 15, 14, 16, 18, 20, 22, 19, 17, 15, 13, 10]\n",
        "summ = sum(temp)\n",
        "lenn = len(temp)\n",
        "mean = summ/lenn\n",
        "print(f\"Mean : {mean}\")"
      ]
    },
    {
      "cell_type": "code",
      "source": [
        "srt = sorted(temp)\n",
        "if lenn % 2 == 0:\n",
        "  mediann = (srt[lenn // 2 - 1] + srt[lenn // 2]) / 2\n",
        "  print(f\"Median : {mediann}\")\n",
        "else:\n",
        "  mediann = srt[lenn // 2]\n",
        "  print(f\"Median : {mediann}\")"
      ],
      "metadata": {
        "colab": {
          "base_uri": "https://localhost:8080/"
        },
        "id": "J6nc3Earn65F",
        "outputId": "954bf53e-1331-494e-bba1-dca0ce3747b6"
      },
      "execution_count": 75,
      "outputs": [
        {
          "output_type": "stream",
          "name": "stdout",
          "text": [
            "Median : 15.5\n"
          ]
        }
      ]
    },
    {
      "cell_type": "code",
      "source": [
        "def modd(n):\n",
        "  print(f\"Mod Value : {max(set(n), key=temp.count)}\")\n",
        "\n",
        "modd(temp)"
      ],
      "metadata": {
        "colab": {
          "base_uri": "https://localhost:8080/"
        },
        "id": "ffQ-ztiMqSbw",
        "outputId": "b6a43496-b62b-4746-fa69-82b04abe0436"
      },
      "execution_count": 76,
      "outputs": [
        {
          "output_type": "stream",
          "name": "stdout",
          "text": [
            "Mod Value : 15\n"
          ]
        }
      ]
    },
    {
      "cell_type": "code",
      "source": [
        "print(f\"Range : {(max(temp) - min(temp))}\")"
      ],
      "metadata": {
        "colab": {
          "base_uri": "https://localhost:8080/"
        },
        "id": "kh_pMngtrHBS",
        "outputId": "388d3d4b-6cc2-4f2b-8621-738f08d4e147"
      },
      "execution_count": 77,
      "outputs": [
        {
          "output_type": "stream",
          "name": "stdout",
          "text": [
            "Range : 12\n"
          ]
        }
      ]
    },
    {
      "cell_type": "code",
      "source": [
        "dev = []\n",
        "for i in srt:\n",
        "  d = i - mean\n",
        "  dev.append(d)\n",
        "\n",
        "sqrdev = []\n",
        "\n",
        "for i in dev:\n",
        "  d = i * i\n",
        "  sqrdev.append(d)\n",
        "\n",
        "sm_sqr_dev = sum(sqrdev)\n",
        "p = sm_sqr_dev / lenn\n",
        "\n",
        "print(f\"Variance: {p}\")\n"
      ],
      "metadata": {
        "colab": {
          "base_uri": "https://localhost:8080/"
        },
        "id": "f9KwetartNDP",
        "outputId": "502796a7-990f-4771-d753-1e27b6d5fef4"
      },
      "execution_count": 78,
      "outputs": [
        {
          "output_type": "stream",
          "name": "stdout",
          "text": [
            "Variance: 11.076388888888888\n"
          ]
        }
      ]
    },
    {
      "cell_type": "markdown",
      "source": [
        "\n",
        "\n",
        "---\n",
        "\n",
        "\n",
        "2.Dataset: Heights of students (in cm): 150, 160, 165, 170, 155, 160, 162, 168\n",
        "\n",
        "\n",
        "---\n",
        "\n",
        "a) Calculate the range of the heights.\n",
        "\n",
        "\n",
        "---\n",
        "\n",
        "\n",
        "b) Calculate the variance of the heights.\n",
        "\n",
        "---\n",
        "\n",
        "\n",
        "c) Standard Deviation\n",
        "\n",
        "---\n",
        "\n"
      ],
      "metadata": {
        "id": "5lEKn-qI0RMY"
      }
    },
    {
      "cell_type": "code",
      "source": [
        "hs = [150, 160, 165, 170, 155, 160, 162, 168] # heights\n",
        "rng = max(hs) - min(hs) # range\n",
        "\n",
        "print(f\"Range : {rng}\")"
      ],
      "metadata": {
        "colab": {
          "base_uri": "https://localhost:8080/"
        },
        "id": "qd_Ra1Hy0fzN",
        "outputId": "04bf32a8-91f6-44a8-a5b6-6a0be8c5a37b"
      },
      "execution_count": 79,
      "outputs": [
        {
          "output_type": "stream",
          "name": "stdout",
          "text": [
            "Range : 20\n"
          ]
        }
      ]
    },
    {
      "cell_type": "code",
      "source": [
        "srt_hs = sorted(hs) # sorted list\n",
        "len_hs = len(srt_hs) # length\n",
        "sm_hs = sum(srt_hs) # sum\n",
        "mn_hs = sm_hs / len_hs # mean\n",
        "\n",
        "nw_ls = [] # new list for adding ( element - range ) elements\n",
        "for i in srt_hs:\n",
        "  d = i - mn_hs\n",
        "  nw_ls.append(d)\n",
        "\n",
        "sqr_hs = [] # to add the squared value of (element - range)\n",
        "for i in nw_ls:\n",
        "  d = i * i\n",
        "  sqr_hs.append(d)\n",
        "\n",
        "sm_sqr_hs = sum(sqr_hs) # sum of squared heights\n",
        "\n",
        "var_hs = sm_sqr_hs/len_hs\n",
        "\n",
        "print(f\"Variance : {var_hs}\")\n"
      ],
      "metadata": {
        "colab": {
          "base_uri": "https://localhost:8080/"
        },
        "id": "hpC1ekgT03xm",
        "outputId": "13fc4d1f-83b3-4c29-e320-776f3bba3c9b"
      },
      "execution_count": 80,
      "outputs": [
        {
          "output_type": "stream",
          "name": "stdout",
          "text": [
            "Variance : 38.1875\n"
          ]
        }
      ]
    },
    {
      "cell_type": "code",
      "source": [
        "std_hs = var_hs ** .5\n",
        "print(f\"Standard Deviation : {std_hs}\")"
      ],
      "metadata": {
        "colab": {
          "base_uri": "https://localhost:8080/"
        },
        "id": "pexXDhAa5y9I",
        "outputId": "7e4d6d09-abd3-4523-f2c1-bafcf446c134"
      },
      "execution_count": 81,
      "outputs": [
        {
          "output_type": "stream",
          "name": "stdout",
          "text": [
            "Standard Deviation : 6.179603547154137\n"
          ]
        }
      ]
    },
    {
      "cell_type": "markdown",
      "source": [
        "\n",
        "---\n",
        "\n",
        "3.Dataset: Weekly expenses (in $): 200,\n",
        "250, 300, 220, 270, 290, 310\n",
        "\n",
        "---\n",
        "a) Calculate the standard deviation of the weekly expenses.\n"
      ],
      "metadata": {
        "id": "__yCUT3T7qNb"
      }
    },
    {
      "cell_type": "code",
      "source": [
        "# Dataset: Weekly expenses\n",
        "exp = [200, 250, 300, 220, 270, 290, 310]\n",
        "\n",
        "# Step 1: Range\n",
        "rng = max(exp) - min(exp)\n",
        "print(f\"Range : {rng}\")\n",
        "\n",
        "# Step 2: Mean\n",
        "srt_exp = sorted(exp)\n",
        "len_exp = len(srt_exp)\n",
        "sm_exp = sum(srt_exp)\n",
        "mn_exp = sm_exp / len_exp\n",
        "print(f\"Mean : {mn_exp}\")\n",
        "\n",
        "# Step 3: Deviations (element - mean)\n",
        "nw_ls = []\n",
        "for i in srt_exp:\n",
        "    d = i - mn_exp\n",
        "    nw_ls.append(d)\n",
        "\n",
        "# Step 4: Squared deviations\n",
        "sqr_exp = []\n",
        "for i in nw_ls:\n",
        "    d = i * i\n",
        "    sqr_exp.append(d)\n",
        "\n",
        "# Step 5: Variance\n",
        "sm_sqr_exp = sum(sqr_exp)\n",
        "var_exp = sm_sqr_exp / len_exp\n",
        "print(f\"Variance : {var_exp}\")\n",
        "\n",
        "# Step 6: Standard Deviation (square root of variance)\n",
        "std_exp = var_exp ** 0.5\n",
        "print(f\"Standard Deviation : {std_exp}\")\n"
      ],
      "metadata": {
        "colab": {
          "base_uri": "https://localhost:8080/"
        },
        "id": "cmdzmHev7haF",
        "outputId": "2a7929f5-3a8e-4464-fe02-70c4d6e981ae"
      },
      "execution_count": 82,
      "outputs": [
        {
          "output_type": "stream",
          "name": "stdout",
          "text": [
            "Range : 110\n",
            "Mean : 262.85714285714283\n",
            "Variance : 1477.5510204081634\n",
            "Standard Deviation : 38.438925848782034\n"
          ]
        }
      ]
    },
    {
      "cell_type": "markdown",
      "source": [
        "\n",
        "\n",
        "---\n",
        "\n",
        "4.Dataset: Advertising Spending (in $1000s): 10, 20, 15, 25, 30; Sales (in\n",
        "$1000s): 100, 150, 120, 180, 200\n",
        "\n",
        "\n",
        "---\n",
        "\n",
        "a) Calculate the covariance between advertising spending and sales.\n",
        "\n",
        "---\n",
        "\n",
        "\n",
        "b) Correlation"
      ],
      "metadata": {
        "id": "5z_0MYw98BqL"
      }
    },
    {
      "cell_type": "code",
      "source": [
        "ads = [10, 20, 15, 25, 30]\n",
        "sales = [100, 150, 120, 180, 200]\n",
        "\n",
        "n = len(ads)\n",
        "\n",
        "# Means\n",
        "mn_ads = sum(ads) / n\n",
        "mn_sales = sum(sales) / n\n",
        "\n",
        "# Deviations\n",
        "dev_ads = []\n",
        "dev_sales = []\n",
        "for i in range(n):\n",
        "    dev_ads.append(ads[i] - mn_ads)\n",
        "    dev_sales.append(sales[i] - mn_sales)\n",
        "\n",
        "# Covariance\n",
        "prod = []\n",
        "for i in range(n):\n",
        "    prod.append(dev_ads[i] * dev_sales[i])\n",
        "cov = sum(prod) / n\n",
        "print(f\"Covariance : {cov}\")\n",
        "\n",
        "# Correlation\n",
        "sqr_ads = sum([d*d for d in dev_ads]) / n\n",
        "sqr_sales = sum([d*d for d in dev_sales]) / n\n",
        "\n",
        "corr = cov / ((sqr_ads ** 0.5) * (sqr_sales ** 0.5))\n",
        "print(f\"Correlation : {corr}\")\n"
      ],
      "metadata": {
        "colab": {
          "base_uri": "https://localhost:8080/"
        },
        "id": "sl0G9dD0G2qA",
        "outputId": "54fd014e-4881-4aee-fad1-22d4023b4645"
      },
      "execution_count": 83,
      "outputs": [
        {
          "output_type": "stream",
          "name": "stdout",
          "text": [
            "Covariance : 260.0\n",
            "Correlation : 0.9970544855015816\n"
          ]
        }
      ]
    },
    {
      "cell_type": "markdown",
      "source": [
        "\n",
        "\n",
        "---\n",
        "\n",
        "\n",
        "5.Dataset: Study Hours: 2, 4, 6, 8, 10; Exam Scores: 55, 60, 65, 70, 75\n",
        "\n",
        "\n",
        "---\n",
        "\n",
        " a) Calculate the correlation coefficient between study hours and exam\n",
        "scores.\n",
        "\n",
        "---\n",
        "\n",
        "\n",
        "b) Interpret the result.\n",
        "\n",
        "---\n",
        "\n",
        "\n",
        "c) Quartiles and IQR\n",
        "\n"
      ],
      "metadata": {
        "id": "jeZgqahl8LG_"
      }
    },
    {
      "cell_type": "code",
      "source": [
        "hrs = [2, 4, 6, 8, 10]\n",
        "scores = [55, 60, 65, 70, 75]\n",
        "n = len(hrs)\n",
        "\n",
        "# Correlation (same style as Q4)\n",
        "mn_hrs = sum(hrs) / n\n",
        "mn_scores = sum(scores) / n\n",
        "\n",
        "dev_hrs = [i - mn_hrs for i in hrs]\n",
        "dev_scores = [i - mn_scores for i in scores]\n",
        "\n",
        "cov = sum([dev_hrs[i]*dev_scores[i] for i in range(n)]) / n\n",
        "sqr_hrs = sum([d*d for d in dev_hrs]) / n\n",
        "sqr_scores = sum([d*d for d in dev_scores]) / n\n",
        "\n",
        "corr = cov / ((sqr_hrs**0.5) * (sqr_scores**0.5))\n",
        "print(f\"Correlation : {corr}\")\n",
        "\n",
        "# Quartiles & IQR\n",
        "srt_scores = sorted(scores)\n",
        "Q1 = srt_scores[1]  # 2nd value\n",
        "Q3 = srt_scores[3]  # 4th value\n",
        "IQR = Q3 - Q1\n",
        "print(f\"Q1 : {Q1}, Q3 : {Q3}, IQR : {IQR}\")\n"
      ],
      "metadata": {
        "colab": {
          "base_uri": "https://localhost:8080/"
        },
        "id": "wjVSLcrSG3lo",
        "outputId": "7fdc1c4d-fbf7-4fdd-df2d-48680d1cd611"
      },
      "execution_count": 84,
      "outputs": [
        {
          "output_type": "stream",
          "name": "stdout",
          "text": [
            "Correlation : 0.9999999999999998\n",
            "Q1 : 60, Q3 : 70, IQR : 10\n"
          ]
        }
      ]
    },
    {
      "cell_type": "markdown",
      "source": [
        "6.Dataset: Monthly savings (in $): 200, 300, 400, 500, 600, 700, 800, 900, 1000,\n",
        "1100 Questions: a) Calculate the first quartile (Q1) and third quartile (Q3).\n",
        "b) Calculate the interquartile range (IQR).\n",
        "c) Detecting Outliers\n"
      ],
      "metadata": {
        "id": "flTQAqjS8QsS"
      }
    },
    {
      "cell_type": "code",
      "source": [
        "sav = [200, 300, 400, 500, 600, 700, 800, 900, 1000, 1100]\n",
        "srt_sav = sorted(sav)\n",
        "\n",
        "# Q1 (25%) and Q3 (75%)\n",
        "Q1 = (srt_sav[2] + srt_sav[3]) / 2\n",
        "Q3 = (srt_sav[7] + srt_sav[8]) / 2\n",
        "IQR = Q3 - Q1\n",
        "\n",
        "print(f\"Q1 : {Q1}, Q3 : {Q3}, IQR : {IQR}\")\n"
      ],
      "metadata": {
        "colab": {
          "base_uri": "https://localhost:8080/"
        },
        "id": "Ai6a5uRQG4oP",
        "outputId": "a3401740-5441-4bfe-b44b-8d043f6b1cee"
      },
      "execution_count": 85,
      "outputs": [
        {
          "output_type": "stream",
          "name": "stdout",
          "text": [
            "Q1 : 450.0, Q3 : 950.0, IQR : 500.0\n"
          ]
        }
      ]
    },
    {
      "cell_type": "markdown",
      "source": [
        "\n",
        "\n",
        "---\n",
        "\n",
        "\n",
        "7.Dataset: Ages of employees: 22, 25, 28, 30, 35, 40, 45, 50, 55, 100\n",
        "\n",
        "\n",
        "---\n",
        "\n",
        " a) Identify any outliers using the IQR method.\n"
      ],
      "metadata": {
        "id": "CwjE78t-8Rj6"
      }
    },
    {
      "cell_type": "code",
      "source": [
        "ages = [22, 25, 28, 30, 35, 40, 45, 50, 55, 100]\n",
        "srt_ages = sorted(ages)\n",
        "\n",
        "Q1 = (srt_ages[2] + srt_ages[3]) / 2\n",
        "Q3 = (srt_ages[6] + srt_ages[7]) / 2\n",
        "IQR = Q3 - Q1\n",
        "\n",
        "low_cut = Q1 - 1.5*IQR\n",
        "up_cut = Q3 + 1.5*IQR\n",
        "\n",
        "outliers = []\n",
        "for i in srt_ages:\n",
        "    if i < low_cut or i > up_cut:\n",
        "        outliers.append(i)\n",
        "\n",
        "print(f\"Outliers : {outliers}\")\n"
      ],
      "metadata": {
        "colab": {
          "base_uri": "https://localhost:8080/"
        },
        "id": "lHlIQ9mLG8kt",
        "outputId": "a849cd4e-d91b-41d4-bcfd-a8c13cb2f097"
      },
      "execution_count": 86,
      "outputs": [
        {
          "output_type": "stream",
          "name": "stdout",
          "text": [
            "Outliers : [100]\n"
          ]
        }
      ]
    },
    {
      "cell_type": "markdown",
      "source": [
        "\n",
        "\n",
        "---\n",
        "\n",
        "\n",
        "8.Dataset: Observed frequencies of customer preferences for three products:\n",
        "Product A: 50, 55, 60\n",
        "Product B: 30, 25, 35\n",
        "Product C: 20, 20, 25\n",
        "\n",
        "\n",
        "---\n",
        "\n",
        "a) Perform a chi-square test to determine if there is a significant\n",
        "difference in customer preferences among the three products.\n",
        "\n",
        "---\n",
        "\n",
        " b) Hypothesis\n",
        "Testing\n"
      ],
      "metadata": {
        "id": "u1R3CmkX8XgR"
      }
    },
    {
      "cell_type": "code",
      "source": [
        "# Observed frequencies\n",
        "A = [50, 55, 60]\n",
        "B = [30, 25, 35]\n",
        "C = [20, 20, 25]\n",
        "\n",
        "obs = A + B + C\n",
        "n = len(obs)\n",
        "\n",
        "# Expected frequency = average of each product group\n",
        "exp_A = sum(A) / len(A)\n",
        "exp_B = sum(B) / len(B)\n",
        "exp_C = sum(C) / len(C)\n",
        "\n",
        "exp = [exp_A]*len(A) + [exp_B]*len(B) + [exp_C]*len(C)\n",
        "\n",
        "# Chi-square calculation\n",
        "chi_val = 0\n",
        "for i in range(n):\n",
        "    chi_val += ((obs[i] - exp[i])**2) / exp[i]\n",
        "\n",
        "print(f\"Chi-Square Value : {chi_val}\")\n"
      ],
      "metadata": {
        "colab": {
          "base_uri": "https://localhost:8080/"
        },
        "id": "okp34sn8G9dE",
        "outputId": "feeda7e7-f2aa-4ee5-90d8-d8e0eed0b8fa"
      },
      "execution_count": 87,
      "outputs": [
        {
          "output_type": "stream",
          "name": "stdout",
          "text": [
            "Chi-Square Value : 3.3449883449883444\n"
          ]
        }
      ]
    },
    {
      "cell_type": "markdown",
      "source": [
        "\n",
        "\n",
        "---\n",
        "\n",
        "\n",
        "9.Dataset: Sample weights (in kg) of a new diet program: 70, 68, 72, 71, 69, 73,\n",
        "72, 74, 70, 71\n",
        "\n",
        "---\n",
        "\n",
        "a) Test the hypothesis that the mean weight after the\n",
        "diet program is equal to 70 kg at a 5% significance level.\n",
        "\n",
        "---\n",
        "\n",
        " b) Z-Scores\n"
      ],
      "metadata": {
        "id": "_6zo60qY8YhO"
      }
    },
    {
      "cell_type": "code",
      "source": [
        "weights = [70, 68, 72, 71, 69, 73, 72, 74, 70, 71]\n",
        "n = len(weights)\n",
        "\n",
        "# Mean\n",
        "mn_wt = sum(weights) / n\n",
        "\n",
        "# Variance\n",
        "dev = [i - mn_wt for i in weights]\n",
        "sqr_dev = [d*d for d in dev]\n",
        "var = sum(sqr_dev) / (n-1)   # sample variance\n",
        "std = var ** 0.5\n",
        "\n",
        "# t-statistic vs mu0=70\n",
        "mu0 = 70\n",
        "t_stat = (mn_wt - mu0) / (std / (n**0.5))\n",
        "\n",
        "print(f\"Mean : {mn_wt}\")\n",
        "print(f\"t-statistic : {t_stat}\")\n"
      ],
      "metadata": {
        "colab": {
          "base_uri": "https://localhost:8080/"
        },
        "id": "CZb4-GfnG-U7",
        "outputId": "66aab6d6-37d8-4099-c64f-b75e4933375d"
      },
      "execution_count": 88,
      "outputs": [
        {
          "output_type": "stream",
          "name": "stdout",
          "text": [
            "Mean : 71.0\n",
            "t-statistic : 1.7320508075688774\n"
          ]
        }
      ]
    },
    {
      "cell_type": "markdown",
      "source": [
        "\n",
        "\n",
        "---\n",
        "\n",
        "\n",
        "10.Dataset: Annual salaries of employees (in $1000s): 40, 42, 45, 47, 50, 52, 55,\n",
        "57, 60, 62\n",
        "\n",
        "\n",
        "---\n",
        "\n",
        "a) Calculate the z-scores for each salary.\n",
        "\n",
        "---\n",
        "\n",
        "\n",
        "b) Interpret the z-scores.\n",
        "\n",
        "\n",
        "---\n",
        "\n",
        "c) Normal Distribution"
      ],
      "metadata": {
        "id": "QBb03yK48bZ6"
      }
    },
    {
      "cell_type": "code",
      "source": [
        "salaries = [40, 42, 45, 47, 50, 52, 55, 57, 60, 62]\n",
        "n = len(salaries)\n",
        "\n",
        "mn_sal = sum(salaries) / n\n",
        "dev = [i - mn_sal for i in salaries]\n",
        "sqr_dev = [d*d for d in dev]\n",
        "var = sum(sqr_dev) / n\n",
        "std = var ** 0.5\n",
        "\n",
        "z_scores = []\n",
        "for i in salaries:\n",
        "    z = (i - mn_sal) / std\n",
        "    z_scores.append(z)\n",
        "\n",
        "print(f\"Mean : {mn_sal}, Std Dev : {std}\")\n",
        "print(\"Z-Scores : \", z_scores)\n"
      ],
      "metadata": {
        "colab": {
          "base_uri": "https://localhost:8080/"
        },
        "id": "0N4LOb1ZG_W_",
        "outputId": "13384833-d663-4c13-883d-fc94ebd69286"
      },
      "execution_count": 89,
      "outputs": [
        {
          "output_type": "stream",
          "name": "stdout",
          "text": [
            "Mean : 51.0, Std Dev : 7.14142842854285\n",
            "Z-Scores :  [-1.5403080924308108, -1.2602520756252087, -0.8401680504168059, -0.5601120336112039, -0.14002800840280097, 0.14002800840280097, 0.5601120336112039, 0.8401680504168059, 1.2602520756252087, 1.5403080924308108]\n"
          ]
        }
      ]
    },
    {
      "cell_type": "markdown",
      "source": [
        "\n",
        "\n",
        "---\n",
        "\n",
        "\n",
        "11.Dataset: Scores of students in a standardized test: 85, 87, 90, 92, 95, 97,\n",
        "100, 102, 105, 107\n",
        "\n",
        "\n",
        "---\n",
        "\n",
        "a) Create a histogram of the test scores.\n",
        "\n",
        "\n",
        "---\n",
        "\n",
        "\n",
        "b) Fit a normal distribution to the data and calculate the mean and standard\n",
        "deviation.\n",
        "\n",
        "\n",
        "---\n",
        "\n",
        "\n",
        "c) P-Values\n"
      ],
      "metadata": {
        "id": "TlMWYPI98fJw"
      }
    },
    {
      "cell_type": "code",
      "source": [
        "import matplotlib.pyplot as plt\n",
        "\n",
        "scores = [85, 87, 90, 92, 95, 97, 100, 102, 105, 107]\n",
        "\n",
        "# Mean & Std Dev\n",
        "n = len(scores)\n",
        "mn = sum(scores) / n\n",
        "dev = [i - mn for i in scores]\n",
        "sqr_dev = [d*d for d in dev]\n",
        "var = sum(sqr_dev) / n\n",
        "std = var ** 0.5\n",
        "\n",
        "print(f\"Mean : {mn}, Std Dev : {std}\")\n",
        "\n",
        "# Histogram\n",
        "plt.hist(scores, bins=5, edgecolor=\"black\")\n",
        "plt.title(\"Histogram of Test Scores\")\n",
        "plt.show()\n"
      ],
      "metadata": {
        "colab": {
          "base_uri": "https://localhost:8080/",
          "height": 469
        },
        "id": "7ZR3vKGYHASE",
        "outputId": "64ce74ba-9b88-4f87-ee75-86acc4b95478"
      },
      "execution_count": 90,
      "outputs": [
        {
          "output_type": "stream",
          "name": "stdout",
          "text": [
            "Mean : 96.0, Std Dev : 7.14142842854285\n"
          ]
        },
        {
          "output_type": "display_data",
          "data": {
            "text/plain": [
              "<Figure size 640x480 with 1 Axes>"
            ],
            "image/png": "[encoded data removed]"
          },
          "metadata": {}
        }
      ]
    },
    {
      "cell_type": "markdown",
      "source": [
        "\n",
        "\n",
        "---\n",
        "\n",
        "\n",
        "12.Dataset: Sample data of a new drug's effect on blood pressure reduction (in\n",
        "mmHg): 10, 12, 14, 15, 13, 16, 18, 17, 19, 20\n",
        "\n",
        "\n",
        "---\n",
        "\n",
        "a) Perform a t-test to determine if the new drug has a significant effect\n",
        "on blood pressure reduction.\n",
        "\n",
        "---\n",
        "\n",
        "b) Report the p-value and interpret the results.\n",
        "\n",
        "---\n",
        "\n",
        "c)\n",
        "Confidence Intervals\n"
      ],
      "metadata": {
        "id": "goXOTPS08i5r"
      }
    },
    {
      "cell_type": "code",
      "source": [
        "import math\n",
        "\n",
        "bp = [10, 12, 14, 15, 13, 16, 18, 17, 19, 20]\n",
        "n = len(bp)\n",
        "\n",
        "mn = sum(bp) / n\n",
        "dev = [i - mn for i in bp]\n",
        "sqr_dev = [d*d for d in dev]\n",
        "var = sum(sqr_dev) / (n-1)\n",
        "std = var ** 0.5\n",
        "\n",
        "# Hypothesis test vs mu0 = 0\n",
        "mu0 = 0\n",
        "t_stat = (mn - mu0) / (std / (n**0.5))\n",
        "\n",
        "# 95% Confidence Interval\n",
        "margin = 2.262 * (std / (n**0.5))  # t-critical for df=9\n",
        "ci_low = mn - margin\n",
        "ci_high = mn + margin\n",
        "\n",
        "print(f\"Mean : {mn}, t-stat : {t_stat}\")\n",
        "print(f\"95% CI : [{ci_low}, {ci_high}]\")\n"
      ],
      "metadata": {
        "colab": {
          "base_uri": "https://localhost:8080/"
        },
        "id": "F1bmyyVZHBi6",
        "outputId": "54982734-ce75-4af6-89b8-edf79df92ec0"
      },
      "execution_count": 91,
      "outputs": [
        {
          "output_type": "stream",
          "name": "stdout",
          "text": [
            "Mean : 15.4, t-stat : 15.198684153570664\n",
            "95% CI : [13.108038429641544, 17.69196157035846]\n"
          ]
        }
      ]
    },
    {
      "cell_type": "markdown",
      "source": [
        "\n",
        "\n",
        "---\n",
        "\n",
        "\n",
        "13.Dataset: Monthly income of individuals (in $1000s): 3.5, 4.0, 4.2, 4.5, 4.7, 5.0,\n",
        "5.3, 5.5, 5.7, 6.0\n",
        "\n",
        "\n",
        "---\n",
        "\n",
        "a) Calculate the 95% confidence interval for the mean monthly\n",
        "income.\n",
        "\n",
        "---\n",
        "\n",
        "\n",
        "b) Box Plot\n"
      ],
      "metadata": {
        "id": "osbRhy-v8j_w"
      }
    },
    {
      "cell_type": "code",
      "source": [
        "inc = [3.5, 4.0, 4.2, 4.5, 4.7, 5.0, 5.3, 5.5, 5.7, 6.0]\n",
        "n = len(inc)\n",
        "\n",
        "mn = sum(inc) / n\n",
        "dev = [i - mn for i in inc]\n",
        "sqr_dev = [d*d for d in dev]\n",
        "var = sum(sqr_dev) / (n-1)\n",
        "std = var ** 0.5\n",
        "\n",
        "# 95% CI\n",
        "margin = 2.262 * (std / (n**0.5))  # df=9\n",
        "ci_low = mn - margin\n",
        "ci_high = mn + margin\n",
        "\n",
        "print(f\"Mean : {mn}\")\n",
        "print(f\"95% CI : [{ci_low}, {ci_high}]\")\n"
      ],
      "metadata": {
        "colab": {
          "base_uri": "https://localhost:8080/"
        },
        "id": "fT9XEQ08HCKE",
        "outputId": "fc222943-7c19-4ce3-8f87-ceb022323a39"
      },
      "execution_count": 92,
      "outputs": [
        {
          "output_type": "stream",
          "name": "stdout",
          "text": [
            "Mean : 4.84\n",
            "95% CI : [4.265572731845014, 5.414427268154986]\n"
          ]
        }
      ]
    },
    {
      "cell_type": "markdown",
      "source": [
        "\n",
        "\n",
        "---\n",
        "\n",
        "\n",
        "14.Dataset: Daily temperatures (in °C) over two weeks: 25, 26, 27, 28, 29, 30,\n",
        "31, 32, 33, 34, 35, 36, 37, 38\n",
        "\n",
        "\n",
        "---\n",
        "\n",
        "\n",
        "a) Create a box plot of the daily temperatures.\n",
        "\n",
        "---\n",
        "\n",
        " b) Identify any\n",
        "outliers.\n",
        "\n",
        "---\n",
        "\n",
        " c) Scatter Plot and Trend Line\n"
      ],
      "metadata": {
        "id": "8RKduSw-8oWI"
      }
    },
    {
      "cell_type": "code",
      "source": [
        "temps = [25, 26, 27, 28, 29, 30, 31, 32, 33, 34, 35, 36, 37, 38]\n",
        "\n",
        "# Box Plot\n",
        "plt.boxplot(temps)\n",
        "plt.title(\"Box Plot of Daily Temps\")\n",
        "plt.show()\n",
        "\n",
        "# Scatter Plot\n",
        "plt.scatter(range(1, len(temps)+1), temps)\n",
        "plt.plot(range(1, len(temps)+1), temps, linestyle=\"--\", color=\"red\")\n",
        "plt.title(\"Scatter Plot with Trend Line\")\n",
        "plt.show()\n"
      ],
      "metadata": {
        "colab": {
          "base_uri": "https://localhost:8080/",
          "height": 887
        },
        "id": "maAa_t9NHD0z",
        "outputId": "4fda04d1-acee-4ab9-dc5c-f76019c13190"
      },
      "execution_count": 93,
      "outputs": [
        {
          "output_type": "display_data",
          "data": {
            "text/plain": [
              "<Figure size 640x480 with 1 Axes>"
            ],
            "image/png": "[encoded data removed]"
          },
          "metadata": {}
        },
        {
          "output_type": "display_data",
          "data": {
            "text/plain": [
              "<Figure size 640x480 with 1 Axes>"
            ],
            "image/png": "[encoded data removed]"
          },
          "metadata": {}
        }
      ]
    },
    {
      "cell_type": "markdown",
      "source": [
        "\n",
        "\n",
        "---\n",
        "\n",
        "\n",
        "15.Dataset: Advertising Spending (in $1000s): 10, 20, 30, 40, 50; Sales (in\n",
        "$1000s): 100, 150, 200, 250, 300\n",
        "\n",
        "\n",
        "---\n",
        "\n",
        "a) Create a scatter plot of advertising spending vs. sales.\n",
        "\n",
        "---\n",
        "\n",
        "b) Add a\n",
        "trend line and display the equation of the line."
      ],
      "metadata": {
        "id": "fTgCr0lR8pXK"
      }
    },
    {
      "cell_type": "code",
      "source": [
        "ads = [10, 20, 30, 40, 50]\n",
        "sales = [100, 150, 200, 250, 300]\n",
        "\n",
        "plt.scatter(ads, sales, color=\"blue\")\n",
        "\n",
        "# Trend Line (y = 5x + 50)\n",
        "trend = [5*x + 50 for x in ads]\n",
        "plt.plot(ads, trend, color=\"red\", linestyle=\"--\")\n",
        "\n",
        "plt.title(\"Advertising vs Sales\")\n",
        "plt.xlabel(\"Ad Spend ($1000s)\")\n",
        "plt.ylabel(\"Sales ($1000s)\")\n",
        "plt.show()"
      ],
      "metadata": {
        "colab": {
          "base_uri": "https://localhost:8080/",
          "height": 472
        },
        "id": "BYCa6h3aHLy7",
        "outputId": "74fdb9bd-b1c0-4ea5-a650-a28aa8c5ecb1"
      },
      "execution_count": 94,
      "outputs": [
        {
          "output_type": "display_data",
          "data": {
            "text/plain": [
              "<Figure size 640x480 with 1 Axes>"
            ],
            "image/png": "[encoded data removed]"
          },
          "metadata": {}
        }
      ]
    }
  ]
}