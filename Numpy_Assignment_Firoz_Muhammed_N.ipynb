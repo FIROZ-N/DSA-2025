{
  "nbformat": 4,
  "nbformat_minor": 0,
  "metadata": {
    "colab": {
      "provenance": [],
      "authorship_tag": "ABX9TyPe0Nehudpf0qaXdSNI/Uge",
      "include_colab_link": true
    },
    "kernelspec": {
      "name": "python3",
      "display_name": "Python 3"
    },
    "language_info": {
      "name": "python"
    }
  },
  "cells": [
    {
      "cell_type": "markdown",
      "metadata": {
        "id": "view-in-github",
        "colab_type": "text"
      },
      "source": [
        "<a href=\"https://colab.research.google.com/github/FIROZ-N/DSA-2025/blob/main/Numpy_Assignment_Firoz_Muhammed_N.ipynb\" target=\"_parent\"><img src=\"https://colab.research.google.com/assets/colab-badge.svg\" alt=\"Open In Colab\"/></a>"
      ]
    },
    {
      "cell_type": "markdown",
      "source": [
        " NumPy array with values from 10 to 49 (inclusive).\n",
        "\n",
        " ----\n",
        "\n",
        "● Reshape it into a 4x10 matrix.\n",
        "\n",
        "----\n",
        "\n",
        "● Then extract the last column from the reshaped matrix"
      ],
      "metadata": {
        "id": "XF6w1p_OY_8L"
      }
    },
    {
      "cell_type": "code",
      "execution_count": 21,
      "metadata": {
        "colab": {
          "base_uri": "https://localhost:8080/"
        },
        "id": "26oOISmdYaKJ",
        "outputId": "153f37d1-1262-4a29-b359-50b870d5ea21"
      },
      "outputs": [
        {
          "output_type": "stream",
          "name": "stdout",
          "text": [
            "\n",
            "matrix : [[10 11 12 13 14 15 16 17 18 19]\n",
            " [20 21 22 23 24 25 26 27 28 29]\n",
            " [30 31 32 33 34 35 36 37 38 39]\n",
            " [40 41 42 43 44 45 46 47 48 49]]\n",
            "last : [19 29 39 49]\n"
          ]
        }
      ],
      "source": [
        "import numpy as np\n",
        "\n",
        "arr = np.arange(10,50)\n",
        "\n",
        "matrix = arr.reshape(4,10)\n",
        "\n",
        "print()\n",
        "\n",
        "print(f\"matrix : {matrix}\")\n",
        "\n",
        "last_column = matrix[:,-1]\n",
        "\n",
        "print(f\"last : {last_column}\")\n"
      ]
    },
    {
      "cell_type": "markdown",
      "source": [
        "Two 3×3 matrices:\n",
        "\n",
        "---\n",
        "One filled with all 5s , One with values from 1 to 9\n",
        "\n",
        "---\n",
        "● Add the two matrices\n",
        "\n",
        "---\n",
        "● Multiply them element-wise\n",
        "\n",
        "---\n",
        "● Then find the transpose of the result"
      ],
      "metadata": {
        "id": "LKNpRU8Bh_k8"
      }
    },
    {
      "cell_type": "code",
      "source": [
        "import numpy as np\n",
        "\n",
        "mat1 = np.full((3, 3), 5)\n",
        "mat2 = np.arange(1, 10).reshape(3, 3)\n",
        "added = mat1 + mat2\n",
        "multiplied = mat1 * mat2\n",
        "transpose_result = multiplied.T\n",
        "print(\"\\nTranspose of Element-wise Multiplication:\\n\", transpose_result)"
      ],
      "metadata": {
        "colab": {
          "base_uri": "https://localhost:8080/"
        },
        "id": "DBecm7SMiNlZ",
        "outputId": "742a2084-7231-4a52-fac1-2e9487f46ad9"
      },
      "execution_count": 22,
      "outputs": [
        {
          "output_type": "stream",
          "name": "stdout",
          "text": [
            "\n",
            "Transpose of Element-wise Multiplication:\n",
            " [[ 5 20 35]\n",
            " [10 25 40]\n",
            " [15 30 45]]\n"
          ]
        }
      ]
    },
    {
      "cell_type": "markdown",
      "source": [
        "A NumPy array of 15 random integers between 10 and 100.\n",
        "\n",
        "----\n",
        "● Replace all values greater than 50 with -1\n",
        "\n",
        "----\n",
        "● Count how many values were replaced."
      ],
      "metadata": {
        "id": "QtCdgkffkyYY"
      }
    },
    {
      "cell_type": "code",
      "source": [
        "rand_arr = np.random.randint(10, 101, 15)\n",
        "replaced_arr = np.where(rand_arr > 50, -1, rand_arr)\n",
        "count_replaced = np.sum(rand_arr > 50)\n",
        "print(\"\\nOriginal:\\n\", rand_arr)\n",
        "print(\"Replaced (>50 with -1):\\n\", replaced_arr)\n",
        "print(\"Count of replaced values:\", count_replaced)"
      ],
      "metadata": {
        "colab": {
          "base_uri": "https://localhost:8080/"
        },
        "id": "NgSwIud6lfS0",
        "outputId": "0afe5757-03a3-4b40-c11d-b96988def304"
      },
      "execution_count": 23,
      "outputs": [
        {
          "output_type": "stream",
          "name": "stdout",
          "text": [
            "\n",
            "Original:\n",
            " [37 67 70 36 19 97 40 37 27 28 21 24 84 57 90]\n",
            "Replaced (>50 with -1):\n",
            " [37 -1 -1 36 19 -1 40 37 27 28 21 24 -1 -1 -1]\n",
            "Count of replaced values: 6\n"
          ]
        }
      ]
    },
    {
      "cell_type": "markdown",
      "source": [
        "5×4 random array, row with max sum, normalize each row"
      ],
      "metadata": {
        "id": "OGSJTvfFl1Mg"
      }
    },
    {
      "cell_type": "code",
      "source": [
        "rand_5x4 = np.random.rand(5, 4)\n",
        "row_max_sum_index = np.argmax(rand_5x4.sum(axis=1))\n",
        "normalized = rand_5x4 / rand_5x4.sum(axis=1, keepdims=True)\n",
        "print(\"\\nRow with maximum sum index:\", row_max_sum_index)\n",
        "print(\"Normalized rows:\\n\", normalized)"
      ],
      "metadata": {
        "colab": {
          "base_uri": "https://localhost:8080/"
        },
        "id": "IWpoFa7Kl4og",
        "outputId": "332ca9d6-6670-4407-b03c-915b43efaf49"
      },
      "execution_count": 24,
      "outputs": [
        {
          "output_type": "stream",
          "name": "stdout",
          "text": [
            "\n",
            "Row with maximum sum index: 2\n",
            "Normalized rows:\n",
            " [[0.34679814 0.2920137  0.31058426 0.0506039 ]\n",
            " [0.28584322 0.19766311 0.22774147 0.2887522 ]\n",
            " [0.33845519 0.2703091  0.34467788 0.04655783]\n",
            " [0.35150538 0.23527979 0.27432127 0.13889355]\n",
            " [0.3311772  0.00772922 0.2619839  0.39910968]]\n"
          ]
        }
      ]
    },
    {
      "cell_type": "markdown",
      "source": [
        "Unique & duplicates in arr"
      ],
      "metadata": {
        "id": "xF_t_nhsl9bf"
      }
    },
    {
      "cell_type": "code",
      "source": [
        "arr5 = np.array([1, 3, 5, 3, 7, 9, 1, 5, 5])\n",
        "unique_elements = np.unique(arr5)\n",
        "duplicates = [x for x in unique_elements if np.sum(arr5 == x) > 1]\n",
        "print(\"\\nUnique Elements:\", unique_elements)\n",
        "print(\"Duplicates:\", duplicates)"
      ],
      "metadata": {
        "colab": {
          "base_uri": "https://localhost:8080/"
        },
        "id": "HU6b5dW2mAFN",
        "outputId": "b2e3e5d6-b20c-4ea9-e710-6ab713ff1b6c"
      },
      "execution_count": 25,
      "outputs": [
        {
          "output_type": "stream",
          "name": "stdout",
          "text": [
            "\n",
            "Unique Elements: [1 3 5 7 9]\n",
            "Duplicates: [np.int64(1), np.int64(3), np.int64(5)]\n"
          ]
        }
      ]
    },
    {
      "cell_type": "markdown",
      "source": [
        "6×6 array, extract middle 4×4, even numbers"
      ],
      "metadata": {
        "id": "JfhbBtE1mZYS"
      }
    },
    {
      "cell_type": "code",
      "source": [
        "arr6 = np.arange(1, 37).reshape(6, 6)\n",
        "middle_4x4 = arr6[1:5, 1:5]\n",
        "even_numbers = middle_4x4[middle_4x4 % 2 == 0]\n",
        "print(\"\\nMiddle 4×4 Submatrix:\\n\", middle_4x4)\n",
        "print(\"Even Numbers in Submatrix:\", even_numbers)"
      ],
      "metadata": {
        "colab": {
          "base_uri": "https://localhost:8080/"
        },
        "id": "PTnTMimomahD",
        "outputId": "62985215-394d-445f-9db2-794a33e8caf2"
      },
      "execution_count": 26,
      "outputs": [
        {
          "output_type": "stream",
          "name": "stdout",
          "text": [
            "\n",
            "Middle 4×4 Submatrix:\n",
            " [[ 8  9 10 11]\n",
            " [14 15 16 17]\n",
            " [20 21 22 23]\n",
            " [26 27 28 29]]\n",
            "Even Numbers in Submatrix: [ 8 10 14 16 20 22 26 28]\n"
          ]
        }
      ]
    },
    {
      "cell_type": "markdown",
      "source": [
        "(3,4) -> (2,6) -> flatten -> (4,3)"
      ],
      "metadata": {
        "id": "cAAIEJwCmnH-"
      }
    },
    {
      "cell_type": "code",
      "source": [
        "arr7 = np.arange(12).reshape(3, 4)\n",
        "reshaped_2x6 = arr7.reshape(2, 6)\n",
        "flattened = reshaped_2x6.flatten()\n",
        "reshaped_4x3 = flattened.reshape(4, 3)\n",
        "print(\"\\nReshaped to (4,3):\\n\", reshaped_4x3)"
      ],
      "metadata": {
        "colab": {
          "base_uri": "https://localhost:8080/"
        },
        "id": "dxEvcjP8miCi",
        "outputId": "f898656a-2881-4a4b-95e9-cfa2a012be70"
      },
      "execution_count": 27,
      "outputs": [
        {
          "output_type": "stream",
          "name": "stdout",
          "text": [
            "\n",
            "Reshaped to (4,3):\n",
            " [[ 0  1  2]\n",
            " [ 3  4  5]\n",
            " [ 6  7  8]\n",
            " [ 9 10 11]]\n"
          ]
        }
      ]
    },
    {
      "cell_type": "markdown",
      "source": [
        "Append new row & column"
      ],
      "metadata": {
        "id": "7N1m4qsSmrEq"
      }
    },
    {
      "cell_type": "code",
      "source": [
        "a = np.array([[1, 2], [3, 4]])\n",
        "a = np.vstack([a, [5, 6]])          # Add row\n",
        "a = np.column_stack([a, [7, 8, 9]]) # Add column\n",
        "print(\"\\nAfter Appending Row & Column:\\n\", a)"
      ],
      "metadata": {
        "colab": {
          "base_uri": "https://localhost:8080/"
        },
        "id": "XkpBYP2Wmvm8",
        "outputId": "e0d33b6f-b5ce-46e3-cc24-96dccd4f3c6a"
      },
      "execution_count": 28,
      "outputs": [
        {
          "output_type": "stream",
          "name": "stdout",
          "text": [
            "\n",
            "After Appending Row & Column:\n",
            " [[1 2 7]\n",
            " [3 4 8]\n",
            " [5 6 9]]\n"
          ]
        }
      ]
    },
    {
      "cell_type": "markdown",
      "source": [
        "Join arrays, reshape to 3x3, extract diagonal"
      ],
      "metadata": {
        "id": "lz6JFT0-m2cI"
      }
    },
    {
      "cell_type": "code",
      "source": [
        "a9 = np.array([1, 2, 3])\n",
        "b9 = np.array([4, 5, 6])\n",
        "c9 = np.array([7, 8, 9])\n",
        "joined = np.concatenate([a9, b9, c9]).reshape(3, 3)\n",
        "diagonal = np.diag(joined)\n",
        "print(\"\\nDiagonal Elements:\", diagonal)"
      ],
      "metadata": {
        "id": "nh6aBYV-m1rK",
        "colab": {
          "base_uri": "https://localhost:8080/"
        },
        "outputId": "03ea26b0-dd24-45a2-de25-6e86e0e3c71f"
      },
      "execution_count": 29,
      "outputs": [
        {
          "output_type": "stream",
          "name": "stdout",
          "text": [
            "\n",
            "Diagonal Elements: [1 5 9]\n"
          ]
        }
      ]
    },
    {
      "cell_type": "markdown",
      "source": [
        "Integers from 1 to 20, divisible by 3 or 5"
      ],
      "metadata": {
        "id": "JKPjujZIpgOM"
      }
    },
    {
      "cell_type": "code",
      "source": [
        "arr10 = np.arange(1, 21)\n",
        "divisible = arr10[(arr10 % 3 == 0) | (arr10 % 5 == 0)]\n",
        "count_divisible = len(divisible)\n",
        "print(\"\\nDivisible by 3 or 5:\", divisible)\n",
        "print(\"Count:\", count_divisible)"
      ],
      "metadata": {
        "colab": {
          "base_uri": "https://localhost:8080/"
        },
        "id": "Vi598fPupqCw",
        "outputId": "e218d656-0153-4ab7-d6c6-ac451e038257"
      },
      "execution_count": 30,
      "outputs": [
        {
          "output_type": "stream",
          "name": "stdout",
          "text": [
            "\n",
            "Divisible by 3 or 5: [ 3  5  6  9 10 12 15 18 20]\n",
            "Count: 9\n"
          ]
        }
      ]
    }
  ]
}